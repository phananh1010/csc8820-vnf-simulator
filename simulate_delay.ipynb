{
 "cells": [
  {
   "cell_type": "code",
   "execution_count": 1,
   "metadata": {},
   "outputs": [],
   "source": [
    "text = '''Service Chain ID= 1  Bell ID= 1  Partition ID= 1  VNF ID= 11  VNF CPU= 3  VNF Flow= 1  Server= 14  cpu_total= 18  cpu_used= 12.0  cpu_avail= 3.0  VNF Length on Server= 4.0  VNF Length on Partition= 4  Total Required CPU= 12.0  Switching Cost 0.0\n",
    "Service Chain ID= 1  Bell ID= 1  Partition ID= 1  VNF ID= 12  VNF CPU= 3  VNF Flow= 2  Server= 14  cpu_total= 18  cpu_used= 12.0  cpu_avail= 3.0  VNF Length on Server= 4.0  VNF Length on Partition= 4  Total Required CPU= 12.0  Switching Cost 0.0\n",
    "Service Chain ID= 1  Bell ID= 1  Partition ID= 1  VNF ID= 13  VNF CPU= 3  VNF Flow= 3  Server= 14  cpu_total= 18  cpu_used= 12.0  cpu_avail= 3.0  VNF Length on Server= 4.0  VNF Length on Partition= 4  Total Required CPU= 12.0  Switching Cost 0.0\n",
    "Service Chain ID= 1  Bell ID= 1  Partition ID= 1  VNF ID= 14  VNF CPU= 3  VNF Flow= 4  Server= 14  cpu_total= 18  cpu_used= 12.0  cpu_avail= 3.0  VNF Length on Server= 4.0  VNF Length on Partition= 4  Total Required CPU= 12.0  Switching Cost 0.0\n",
    "Service Chain ID= 10  Bell ID= 1  Partition ID= 1  VNF ID= 101  VNF CPU= 7  VNF Flow= 1  Server= 3  cpu_total= 31  cpu_used= 28.0  cpu_avail= 0.0  VNF Length on Server= 4.0  VNF Length on Partition= 4  Total Required CPU= 28.0  Switching Cost 0.0\n",
    "Service Chain ID= 10  Bell ID= 1  Partition ID= 1  VNF ID= 102  VNF CPU= 7  VNF Flow= 2  Server= 3  cpu_total= 31  cpu_used= 28.0  cpu_avail= 0.0  VNF Length on Server= 4.0  VNF Length on Partition= 4  Total Required CPU= 28.0  Switching Cost 0.0\n",
    "Service Chain ID= 10  Bell ID= 1  Partition ID= 1  VNF ID= 103  VNF CPU= 7  VNF Flow= 3  Server= 3  cpu_total= 31  cpu_used= 28.0  cpu_avail= 0.0  VNF Length on Server= 4.0  VNF Length on Partition= 4  Total Required CPU= 28.0  Switching Cost 0.0\n",
    "Service Chain ID= 10  Bell ID= 1  Partition ID= 1  VNF ID= 104  VNF CPU= 7  VNF Flow= 4  Server= 3  cpu_total= 31  cpu_used= 28.0  cpu_avail= 0.0  VNF Length on Server= 4.0  VNF Length on Partition= 4  Total Required CPU= 28.0  Switching Cost 0.0\n",
    "Service Chain ID= 2  Bell ID= 1  Partition ID= 1  VNF ID= 21  VNF CPU= 6  VNF Flow= 1  Server= 11  cpu_total= 27  cpu_used= 24.0  cpu_avail= 0.0  VNF Length on Server= 4.0  VNF Length on Partition= 4  Total Required CPU= 24.0  Switching Cost 0.0\n",
    "Service Chain ID= 2  Bell ID= 1  Partition ID= 1  VNF ID= 22  VNF CPU= 6  VNF Flow= 2  Server= 11  cpu_total= 27  cpu_used= 24.0  cpu_avail= 0.0  VNF Length on Server= 4.0  VNF Length on Partition= 4  Total Required CPU= 24.0  Switching Cost 0.0\n",
    "Service Chain ID= 2  Bell ID= 1  Partition ID= 1  VNF ID= 23  VNF CPU= 6  VNF Flow= 3  Server= 11  cpu_total= 27  cpu_used= 24.0  cpu_avail= 0.0  VNF Length on Server= 4.0  VNF Length on Partition= 4  Total Required CPU= 24.0  Switching Cost 0.0\n",
    "Service Chain ID= 2  Bell ID= 1  Partition ID= 1  VNF ID= 24  VNF CPU= 6  VNF Flow= 4  Server= 11  cpu_total= 27  cpu_used= 24.0  cpu_avail= 0.0  VNF Length on Server= 4.0  VNF Length on Partition= 4  Total Required CPU= 24.0  Switching Cost 0.0\n",
    "Service Chain ID= 3  Bell ID= 1  Partition ID= 1  VNF ID= 31  VNF CPU= 7  VNF Flow= 1  Server= 9  cpu_total= 31  cpu_used= 28.0  cpu_avail= 0.0  VNF Length on Server= 4.0  VNF Length on Partition= 4  Total Required CPU= 28.0  Switching Cost 0.0\n",
    "Service Chain ID= 3  Bell ID= 1  Partition ID= 1  VNF ID= 32  VNF CPU= 7  VNF Flow= 2  Server= 9  cpu_total= 31  cpu_used= 28.0  cpu_avail= 0.0  VNF Length on Server= 4.0  VNF Length on Partition= 4  Total Required CPU= 28.0  Switching Cost 0.0\n",
    "Service Chain ID= 3  Bell ID= 1  Partition ID= 1  VNF ID= 33  VNF CPU= 7  VNF Flow= 3  Server= 9  cpu_total= 31  cpu_used= 28.0  cpu_avail= 0.0  VNF Length on Server= 4.0  VNF Length on Partition= 4  Total Required CPU= 28.0  Switching Cost 0.0\n",
    "Service Chain ID= 3  Bell ID= 1  Partition ID= 1  VNF ID= 34  VNF CPU= 7  VNF Flow= 4  Server= 9  cpu_total= 31  cpu_used= 28.0  cpu_avail= 0.0  VNF Length on Server= 4.0  VNF Length on Partition= 4  Total Required CPU= 28.0  Switching Cost 0.0\n",
    "Service Chain ID= 4  Bell ID= 1  Partition ID= 1  VNF ID= 41  VNF CPU= 6  VNF Flow= 1  Server= 5  cpu_total= 26  cpu_used= 24.0  cpu_avail= 0.0  VNF Length on Server= 4.0  VNF Length on Partition= 4  Total Required CPU= 24.0  Switching Cost 0.0\n",
    "Service Chain ID= 4  Bell ID= 1  Partition ID= 1  VNF ID= 42  VNF CPU= 6  VNF Flow= 2  Server= 5  cpu_total= 26  cpu_used= 24.0  cpu_avail= 0.0  VNF Length on Server= 4.0  VNF Length on Partition= 4  Total Required CPU= 24.0  Switching Cost 0.0\n",
    "Service Chain ID= 4  Bell ID= 1  Partition ID= 1  VNF ID= 43  VNF CPU= 6  VNF Flow= 3  Server= 5  cpu_total= 26  cpu_used= 24.0  cpu_avail= 0.0  VNF Length on Server= 4.0  VNF Length on Partition= 4  Total Required CPU= 24.0  Switching Cost 0.0\n",
    "Service Chain ID= 4  Bell ID= 1  Partition ID= 1  VNF ID= 44  VNF CPU= 6  VNF Flow= 4  Server= 5  cpu_total= 26  cpu_used= 24.0  cpu_avail= 0.0  VNF Length on Server= 4.0  VNF Length on Partition= 4  Total Required CPU= 24.0  Switching Cost 0.0\n",
    "Service Chain ID= 5  Bell ID= 1  Partition ID= 1  VNF ID= 51  VNF CPU= 6  VNF Flow= 1  Server= 15  cpu_total= 29  cpu_used= 24.0  cpu_avail= 2.0  VNF Length on Server= 4.0  VNF Length on Partition= 4  Total Required CPU= 24.0  Switching Cost 0.0\n",
    "Service Chain ID= 5  Bell ID= 1  Partition ID= 1  VNF ID= 52  VNF CPU= 6  VNF Flow= 2  Server= 15  cpu_total= 29  cpu_used= 24.0  cpu_avail= 2.0  VNF Length on Server= 4.0  VNF Length on Partition= 4  Total Required CPU= 24.0  Switching Cost 0.0\n",
    "Service Chain ID= 5  Bell ID= 1  Partition ID= 1  VNF ID= 53  VNF CPU= 6  VNF Flow= 3  Server= 15  cpu_total= 29  cpu_used= 24.0  cpu_avail= 2.0  VNF Length on Server= 4.0  VNF Length on Partition= 4  Total Required CPU= 24.0  Switching Cost 0.0\n",
    "Service Chain ID= 5  Bell ID= 1  Partition ID= 1  VNF ID= 54  VNF CPU= 6  VNF Flow= 4  Server= 15  cpu_total= 29  cpu_used= 24.0  cpu_avail= 2.0  VNF Length on Server= 4.0  VNF Length on Partition= 4  Total Required CPU= 24.0  Switching Cost 0.0\n",
    "Service Chain ID= 6  Bell ID= 1  Partition ID= 1  VNF ID= 61  VNF CPU= 6  VNF Flow= 1  Server= 2  cpu_total= 29  cpu_used= 24.0  cpu_avail= 2.0  VNF Length on Server= 4.0  VNF Length on Partition= 4  Total Required CPU= 24.0  Switching Cost 0.0\n",
    "Service Chain ID= 6  Bell ID= 1  Partition ID= 1  VNF ID= 62  VNF CPU= 6  VNF Flow= 2  Server= 2  cpu_total= 29  cpu_used= 24.0  cpu_avail= 2.0  VNF Length on Server= 4.0  VNF Length on Partition= 4  Total Required CPU= 24.0  Switching Cost 0.0\n",
    "Service Chain ID= 6  Bell ID= 1  Partition ID= 1  VNF ID= 63  VNF CPU= 6  VNF Flow= 3  Server= 2  cpu_total= 29  cpu_used= 24.0  cpu_avail= 2.0  VNF Length on Server= 4.0  VNF Length on Partition= 4  Total Required CPU= 24.0  Switching Cost 0.0\n",
    "Service Chain ID= 6  Bell ID= 1  Partition ID= 1  VNF ID= 64  VNF CPU= 6  VNF Flow= 4  Server= 2  cpu_total= 29  cpu_used= 24.0  cpu_avail= 2.0  VNF Length on Server= 4.0  VNF Length on Partition= 4  Total Required CPU= 24.0  Switching Cost 0.0\n",
    "Service Chain ID= 7  Bell ID= 1  Partition ID= 1  VNF ID= 71  VNF CPU= 4  VNF Flow= 1  Server= 10  cpu_total= 20  cpu_used= 16.0  cpu_avail= 1.0  VNF Length on Server= 4.0  VNF Length on Partition= 4  Total Required CPU= 16.0  Switching Cost 0.0\n",
    "Service Chain ID= 7  Bell ID= 1  Partition ID= 1  VNF ID= 72  VNF CPU= 4  VNF Flow= 2  Server= 10  cpu_total= 20  cpu_used= 16.0  cpu_avail= 1.0  VNF Length on Server= 4.0  VNF Length on Partition= 4  Total Required CPU= 16.0  Switching Cost 0.0\n",
    "Service Chain ID= 7  Bell ID= 1  Partition ID= 1  VNF ID= 73  VNF CPU= 4  VNF Flow= 3  Server= 10  cpu_total= 20  cpu_used= 16.0  cpu_avail= 1.0  VNF Length on Server= 4.0  VNF Length on Partition= 4  Total Required CPU= 16.0  Switching Cost 0.0\n",
    "Service Chain ID= 7  Bell ID= 1  Partition ID= 1  VNF ID= 74  VNF CPU= 4  VNF Flow= 4  Server= 10  cpu_total= 20  cpu_used= 16.0  cpu_avail= 1.0  VNF Length on Server= 4.0  VNF Length on Partition= 4  Total Required CPU= 16.0  Switching Cost 0.0\n",
    "Service Chain ID= 8  Bell ID= 1  Partition ID= 1  VNF ID= 81  VNF CPU= 6  VNF Flow= 1  Server= 1  cpu_total= 30  cpu_used= 24.0  cpu_avail= 3.0  VNF Length on Server= 4.0  VNF Length on Partition= 4  Total Required CPU= 24.0  Switching Cost 0.0\n",
    "Service Chain ID= 8  Bell ID= 1  Partition ID= 1  VNF ID= 82  VNF CPU= 6  VNF Flow= 2  Server= 1  cpu_total= 30  cpu_used= 24.0  cpu_avail= 3.0  VNF Length on Server= 4.0  VNF Length on Partition= 4  Total Required CPU= 24.0  Switching Cost 0.0\n",
    "Service Chain ID= 8  Bell ID= 1  Partition ID= 1  VNF ID= 83  VNF CPU= 6  VNF Flow= 3  Server= 1  cpu_total= 30  cpu_used= 24.0  cpu_avail= 3.0  VNF Length on Server= 4.0  VNF Length on Partition= 4  Total Required CPU= 24.0  Switching Cost 0.0\n",
    "Service Chain ID= 8  Bell ID= 1  Partition ID= 1  VNF ID= 84  VNF CPU= 6  VNF Flow= 4  Server= 1  cpu_total= 30  cpu_used= 24.0  cpu_avail= 3.0  VNF Length on Server= 4.0  VNF Length on Partition= 4  Total Required CPU= 24.0  Switching Cost 0.0\n",
    "Service Chain ID= 9  Bell ID= 1  Partition ID= 1  VNF ID= 91  VNF CPU= 2  VNF Flow= 1  Server= 12  cpu_total= 20  cpu_used= 8.0  cpu_avail= 9.0  VNF Length on Server= 4.0  VNF Length on Partition= 4  Total Required CPU= 8.0  Switching Cost 0.0\n",
    "Service Chain ID= 9  Bell ID= 1  Partition ID= 1  VNF ID= 92  VNF CPU= 2  VNF Flow= 2  Server= 12  cpu_total= 20  cpu_used= 8.0  cpu_avail= 9.0  VNF Length on Server= 4.0  VNF Length on Partition= 4  Total Required CPU= 8.0  Switching Cost 0.0\n",
    "Service Chain ID= 9  Bell ID= 1  Partition ID= 1  VNF ID= 93  VNF CPU= 2  VNF Flow= 3  Server= 12  cpu_total= 20  cpu_used= 8.0  cpu_avail= 9.0  VNF Length on Server= 4.0  VNF Length on Partition= 4  Total Required CPU= 8.0  Switching Cost 0.0\n",
    "Service Chain ID= 9  Bell ID= 1  Partition ID= 1  VNF ID= 94  VNF CPU= 2  VNF Flow= 4  Server= 12  cpu_total= 20  cpu_used= 8.0  cpu_avail= 9.0  VNF Length on Server= 4.0  VNF Length on Partition= 4  Total Required CPU= 8.0  Switching Cost 0.0'''\n",
    "\n",
    "text2 = '''Service Chain ID= 1  Bell ID= 1  Partition ID= 1  VNF ID= 11  VNF CPU= 3  VNF Flow= 1  Server= 3  cpu_total= 31  cpu_used= 12.0  cpu_avail= 16.0  VNF Length on Server= 4.0  VNF Length on Partition= 4  Total Required CPU= 12.0  Switching Cost 0.0\n",
    "Service Chain ID= 1  Bell ID= 1  Partition ID= 1  VNF ID= 12  VNF CPU= 3  VNF Flow= 2  Server= 3  cpu_total= 31  cpu_used= 12.0  cpu_avail= 16.0  VNF Length on Server= 4.0  VNF Length on Partition= 4  Total Required CPU= 12.0  Switching Cost 0.0\n",
    "Service Chain ID= 1  Bell ID= 1  Partition ID= 1  VNF ID= 13  VNF CPU= 3  VNF Flow= 3  Server= 3  cpu_total= 31  cpu_used= 12.0  cpu_avail= 16.0  VNF Length on Server= 4.0  VNF Length on Partition= 4  Total Required CPU= 12.0  Switching Cost 0.0\n",
    "Service Chain ID= 1  Bell ID= 1  Partition ID= 1  VNF ID= 14  VNF CPU= 3  VNF Flow= 4  Server= 3  cpu_total= 31  cpu_used= 12.0  cpu_avail= 16.0  VNF Length on Server= 4.0  VNF Length on Partition= 4  Total Required CPU= 12.0  Switching Cost 0.0\n",
    "Service Chain ID= 10  Bell ID= 1  Partition ID= 1  VNF ID= 101  VNF CPU= 7  VNF Flow= 1  Server= 9  cpu_total= 31  cpu_used= 28.0  cpu_avail= 0.0  VNF Length on Server= 4.0  VNF Length on Partition= 4  Total Required CPU= 28.0  Switching Cost 0.0\n",
    "Service Chain ID= 10  Bell ID= 1  Partition ID= 1  VNF ID= 102  VNF CPU= 7  VNF Flow= 2  Server= 9  cpu_total= 31  cpu_used= 28.0  cpu_avail= 0.0  VNF Length on Server= 4.0  VNF Length on Partition= 4  Total Required CPU= 28.0  Switching Cost 0.0\n",
    "Service Chain ID= 10  Bell ID= 1  Partition ID= 1  VNF ID= 103  VNF CPU= 7  VNF Flow= 3  Server= 9  cpu_total= 31  cpu_used= 28.0  cpu_avail= 0.0  VNF Length on Server= 4.0  VNF Length on Partition= 4  Total Required CPU= 28.0  Switching Cost 0.0\n",
    "Service Chain ID= 10  Bell ID= 1  Partition ID= 1  VNF ID= 104  VNF CPU= 7  VNF Flow= 4  Server= 9  cpu_total= 31  cpu_used= 28.0  cpu_avail= 0.0  VNF Length on Server= 4.0  VNF Length on Partition= 4  Total Required CPU= 28.0  Switching Cost 0.0\n",
    "Service Chain ID= 2  Bell ID= 1  Partition ID= 1  VNF ID= 21  VNF CPU= 6  VNF Flow= 1  Server= 1  cpu_total= 30  cpu_used= 24.0  cpu_avail= 3.0  VNF Length on Server= 4.0  VNF Length on Partition= 4  Total Required CPU= 24.0  Switching Cost 0.0\n",
    "Service Chain ID= 2  Bell ID= 1  Partition ID= 1  VNF ID= 22  VNF CPU= 6  VNF Flow= 2  Server= 1  cpu_total= 30  cpu_used= 24.0  cpu_avail= 3.0  VNF Length on Server= 4.0  VNF Length on Partition= 4  Total Required CPU= 24.0  Switching Cost 0.0\n",
    "Service Chain ID= 2  Bell ID= 1  Partition ID= 1  VNF ID= 23  VNF CPU= 6  VNF Flow= 3  Server= 1  cpu_total= 30  cpu_used= 24.0  cpu_avail= 3.0  VNF Length on Server= 4.0  VNF Length on Partition= 4  Total Required CPU= 24.0  Switching Cost 0.0\n",
    "Service Chain ID= 2  Bell ID= 1  Partition ID= 1  VNF ID= 24  VNF CPU= 6  VNF Flow= 4  Server= 1  cpu_total= 30  cpu_used= 24.0  cpu_avail= 3.0  VNF Length on Server= 4.0  VNF Length on Partition= 4  Total Required CPU= 24.0  Switching Cost 0.0\n",
    "Service Chain ID= 3  Bell ID= 2  Partition ID= 1  VNF ID= 31  VNF CPU= 7  VNF Flow= 1  Server= 15  cpu_total= 29  cpu_used= 7.0  cpu_avail= 19.0  VNF Length on Server= 1.0  VNF Length on Partition= 1  Total Required CPU= 7.0  Switching Cost 0.0\n",
    "Service Chain ID= 3  Bell ID= 2  Partition ID= 2  VNF ID= 32  VNF CPU= 7  VNF Flow= 2  Server= 2  cpu_total= 29  cpu_used= 21.0  cpu_avail= 5.0  VNF Length on Server= 3.0  VNF Length on Partition= 3  Total Required CPU= 21.0  Switching Cost 0.0\n",
    "Service Chain ID= 3  Bell ID= 2  Partition ID= 2  VNF ID= 33  VNF CPU= 7  VNF Flow= 3  Server= 2  cpu_total= 29  cpu_used= 21.0  cpu_avail= 5.0  VNF Length on Server= 3.0  VNF Length on Partition= 3  Total Required CPU= 21.0  Switching Cost 0.0\n",
    "Service Chain ID= 3  Bell ID= 2  Partition ID= 2  VNF ID= 34  VNF CPU= 7  VNF Flow= 4  Server= 2  cpu_total= 29  cpu_used= 21.0  cpu_avail= 5.0  VNF Length on Server= 3.0  VNF Length on Partition= 3  Total Required CPU= 21.0  Switching Cost 0.0\n",
    "Service Chain ID= 4  Bell ID= 1  Partition ID= 1  VNF ID= 41  VNF CPU= 6  VNF Flow= 1  Server= 11  cpu_total= 27  cpu_used= 24.0  cpu_avail= 0.0  VNF Length on Server= 4.0  VNF Length on Partition= 4  Total Required CPU= 24.0  Switching Cost 0.0\n",
    "Service Chain ID= 4  Bell ID= 1  Partition ID= 1  VNF ID= 42  VNF CPU= 6  VNF Flow= 2  Server= 11  cpu_total= 27  cpu_used= 24.0  cpu_avail= 0.0  VNF Length on Server= 4.0  VNF Length on Partition= 4  Total Required CPU= 24.0  Switching Cost 0.0\n",
    "Service Chain ID= 4  Bell ID= 1  Partition ID= 1  VNF ID= 43  VNF CPU= 6  VNF Flow= 3  Server= 11  cpu_total= 27  cpu_used= 24.0  cpu_avail= 0.0  VNF Length on Server= 4.0  VNF Length on Partition= 4  Total Required CPU= 24.0  Switching Cost 0.0\n",
    "Service Chain ID= 4  Bell ID= 1  Partition ID= 1  VNF ID= 44  VNF CPU= 6  VNF Flow= 4  Server= 11  cpu_total= 27  cpu_used= 24.0  cpu_avail= 0.0  VNF Length on Server= 4.0  VNF Length on Partition= 4  Total Required CPU= 24.0  Switching Cost 0.0\n",
    "Service Chain ID= 5  Bell ID= 1  Partition ID= 1  VNF ID= 51  VNF CPU= 6  VNF Flow= 1  Server= 5  cpu_total= 26  cpu_used= 24.0  cpu_avail= 0.0  VNF Length on Server= 4.0  VNF Length on Partition= 4  Total Required CPU= 24.0  Switching Cost 0.0\n",
    "Service Chain ID= 5  Bell ID= 1  Partition ID= 1  VNF ID= 52  VNF CPU= 6  VNF Flow= 2  Server= 5  cpu_total= 26  cpu_used= 24.0  cpu_avail= 0.0  VNF Length on Server= 4.0  VNF Length on Partition= 4  Total Required CPU= 24.0  Switching Cost 0.0\n",
    "Service Chain ID= 5  Bell ID= 1  Partition ID= 1  VNF ID= 53  VNF CPU= 6  VNF Flow= 3  Server= 5  cpu_total= 26  cpu_used= 24.0  cpu_avail= 0.0  VNF Length on Server= 4.0  VNF Length on Partition= 4  Total Required CPU= 24.0  Switching Cost 0.0\n",
    "Service Chain ID= 5  Bell ID= 1  Partition ID= 1  VNF ID= 54  VNF CPU= 6  VNF Flow= 4  Server= 5  cpu_total= 26  cpu_used= 24.0  cpu_avail= 0.0  VNF Length on Server= 4.0  VNF Length on Partition= 4  Total Required CPU= 24.0  Switching Cost 0.0\n",
    "Service Chain ID= 6  Bell ID= 2  Partition ID= 1  VNF ID= 61  VNF CPU= 6  VNF Flow= 1  Server= 13  cpu_total= 25  cpu_used= 6.0  cpu_avail= 16.0  VNF Length on Server= 1.0  VNF Length on Partition= 1  Total Required CPU= 6.0  Switching Cost 0.0\n",
    "Service Chain ID= 6  Bell ID= 2  Partition ID= 2  VNF ID= 62  VNF CPU= 6  VNF Flow= 2  Server= 6  cpu_total= 25  cpu_used= 18.0  cpu_avail= 4.0  VNF Length on Server= 3.0  VNF Length on Partition= 3  Total Required CPU= 18.0  Switching Cost 0.0\n",
    "Service Chain ID= 6  Bell ID= 2  Partition ID= 2  VNF ID= 63  VNF CPU= 6  VNF Flow= 3  Server= 6  cpu_total= 25  cpu_used= 18.0  cpu_avail= 4.0  VNF Length on Server= 3.0  VNF Length on Partition= 3  Total Required CPU= 18.0  Switching Cost 0.0\n",
    "Service Chain ID= 6  Bell ID= 2  Partition ID= 2  VNF ID= 64  VNF CPU= 6  VNF Flow= 4  Server= 6  cpu_total= 25  cpu_used= 18.0  cpu_avail= 4.0  VNF Length on Server= 3.0  VNF Length on Partition= 3  Total Required CPU= 18.0  Switching Cost 0.0\n",
    "Service Chain ID= 7  Bell ID= 1  Partition ID= 1  VNF ID= 71  VNF CPU= 4  VNF Flow= 1  Server= 7  cpu_total= 23  cpu_used= 16.0  cpu_avail= 4.0  VNF Length on Server= 4.0  VNF Length on Partition= 4  Total Required CPU= 16.0  Switching Cost 0.0\n",
    "Service Chain ID= 7  Bell ID= 1  Partition ID= 1  VNF ID= 72  VNF CPU= 4  VNF Flow= 2  Server= 7  cpu_total= 23  cpu_used= 16.0  cpu_avail= 4.0  VNF Length on Server= 4.0  VNF Length on Partition= 4  Total Required CPU= 16.0  Switching Cost 0.0\n",
    "Service Chain ID= 7  Bell ID= 1  Partition ID= 1  VNF ID= 73  VNF CPU= 4  VNF Flow= 3  Server= 7  cpu_total= 23  cpu_used= 16.0  cpu_avail= 4.0  VNF Length on Server= 4.0  VNF Length on Partition= 4  Total Required CPU= 16.0  Switching Cost 0.0\n",
    "Service Chain ID= 7  Bell ID= 1  Partition ID= 1  VNF ID= 74  VNF CPU= 4  VNF Flow= 4  Server= 7  cpu_total= 23  cpu_used= 16.0  cpu_avail= 4.0  VNF Length on Server= 4.0  VNF Length on Partition= 4  Total Required CPU= 16.0  Switching Cost 0.0\n",
    "Service Chain ID= 8  Bell ID= 2  Partition ID= 1  VNF ID= 81  VNF CPU= 6  VNF Flow= 1  Server= 15  cpu_total= 29  cpu_used= 13.0  cpu_avail= 13.0  VNF Length on Server= 2.0  VNF Length on Partition= 1  Total Required CPU= 6.0  Switching Cost 0.0\n",
    "Service Chain ID= 8  Bell ID= 2  Partition ID= 2  VNF ID= 82  VNF CPU= 6  VNF Flow= 2  Server= 4  cpu_total= 21  cpu_used= 18.0  cpu_avail= 0.0  VNF Length on Server= 3.0  VNF Length on Partition= 3  Total Required CPU= 18.0  Switching Cost 0.0\n",
    "Service Chain ID= 8  Bell ID= 2  Partition ID= 2  VNF ID= 83  VNF CPU= 6  VNF Flow= 3  Server= 4  cpu_total= 21  cpu_used= 18.0  cpu_avail= 0.0  VNF Length on Server= 3.0  VNF Length on Partition= 3  Total Required CPU= 18.0  Switching Cost 0.0\n",
    "Service Chain ID= 8  Bell ID= 2  Partition ID= 2  VNF ID= 84  VNF CPU= 6  VNF Flow= 4  Server= 4  cpu_total= 21  cpu_used= 18.0  cpu_avail= 0.0  VNF Length on Server= 3.0  VNF Length on Partition= 3  Total Required CPU= 18.0  Switching Cost 0.0\n",
    "Service Chain ID= 9  Bell ID= 1  Partition ID= 1  VNF ID= 91  VNF CPU= 2  VNF Flow= 1  Server= 8  cpu_total= 21  cpu_used= 8.0  cpu_avail= 10.0  VNF Length on Server= 4.0  VNF Length on Partition= 4  Total Required CPU= 8.0  Switching Cost 0.0\n",
    "Service Chain ID= 9  Bell ID= 1  Partition ID= 1  VNF ID= 92  VNF CPU= 2  VNF Flow= 2  Server= 8  cpu_total= 21  cpu_used= 8.0  cpu_avail= 10.0  VNF Length on Server= 4.0  VNF Length on Partition= 4  Total Required CPU= 8.0  Switching Cost 0.0\n",
    "Service Chain ID= 9  Bell ID= 1  Partition ID= 1  VNF ID= 93  VNF CPU= 2  VNF Flow= 3  Server= 8  cpu_total= 21  cpu_used= 8.0  cpu_avail= 10.0  VNF Length on Server= 4.0  VNF Length on Partition= 4  Total Required CPU= 8.0  Switching Cost 0.0\n",
    "Service Chain ID= 9  Bell ID= 1  Partition ID= 1  VNF ID= 94  VNF CPU= 2  VNF Flow= 4  Server= 8  cpu_total= 21  cpu_used= 8.0  cpu_avail= 10.0  VNF Length on Server= 4.0  VNF Length on Partition= 4  Total Required CPU= 8.0  Switching Cost 0.0'''"
   ]
  },
  {
   "cell_type": "code",
   "execution_count": 5,
   "metadata": {},
   "outputs": [
    {
     "name": "stdout",
     "output_type": "stream",
     "text": [
      "[[1.0, 11.0, 3.0], [1.0, 12.0, 3.0], [1.0, 13.0, 3.0], [1.0, 14.0, 3.0], [10.0, 101.0, 9.0], [10.0, 102.0, 9.0], [10.0, 103.0, 9.0], [10.0, 104.0, 9.0], [2.0, 21.0, 1.0], [2.0, 22.0, 1.0], [2.0, 23.0, 1.0], [2.0, 24.0, 1.0], [3.0, 31.0, 15.0], [3.0, 32.0, 2.0], [3.0, 33.0, 2.0], [3.0, 34.0, 2.0], [4.0, 41.0, 11.0], [4.0, 42.0, 11.0], [4.0, 43.0, 11.0], [4.0, 44.0, 11.0], [5.0, 51.0, 5.0], [5.0, 52.0, 5.0], [5.0, 53.0, 5.0], [5.0, 54.0, 5.0], [6.0, 61.0, 13.0], [6.0, 62.0, 6.0], [6.0, 63.0, 6.0], [6.0, 64.0, 6.0], [7.0, 71.0, 7.0], [7.0, 72.0, 7.0], [7.0, 73.0, 7.0], [7.0, 74.0, 7.0], [8.0, 81.0, 15.0], [8.0, 82.0, 4.0], [8.0, 83.0, 4.0], [8.0, 84.0, 4.0], [9.0, 91.0, 8.0], [9.0, 92.0, 8.0], [9.0, 93.0, 8.0], [9.0, 94.0, 8.0]]\n"
     ]
    }
   ],
   "source": [
    "import numpy as np\n",
    "\n",
    "text = text2\n",
    "\n",
    "tmp = text.replace('  ', ' ').split('\\n')\n",
    "dat = []\n",
    "for item in tmp:\n",
    "    item = item.split(' ')\n",
    "    row = [item[3], item[12], item[20]]\n",
    "    dat.append(row)\n",
    "dat = np.array(dat, dtype=float)\n",
    "#dat.sort(order=[\"chainID\", \"VNF\"])\n",
    "print dat.tolist()\n"
   ]
  },
  {
   "cell_type": "code",
   "execution_count": 6,
   "metadata": {},
   "outputs": [],
   "source": [
    "#configuration for min-max deployment\n",
    "#dat_minmax = [[1, 1, 1], [1, 2, 1], [1, 3, 1], [1, 4, 1], [2, 1, 1], [2, 2, 1], [2, 3, 2], [2, 4, 2], [3, 1, 2], [3, 2, 2], [3, 3, 3], [3, 4, 3], [4, 1, 3], [4, 2, 3], [4, 3, 4], [4, 4, 4], [5, 1, 4], [5, 2, 4], [5, 3, 5], [5, 4, 5], [6, 1, 5], [6, 2, 5], [6, 3, 6], [6, 4, 6], [7, 1, 2], [7, 2, 3], [7, 3, 4], [7, 4, 5], [8, 1, 9], [8, 2, 9], [8, 3, 10], [8, 4, 10], [9, 1, 1], [9, 2, 6], [9, 3, 8], [9, 4, 8], [10, 1, 11], [10, 2, 11], [10, 3, 11], [10, 4, 12]]\n",
    "#dat_minmax = np.array(dat_minmax)\n",
    "#dat_maxmin = [[1, 1, 1], [1, 2, 1], [1, 3, 1], [1, 4, 1], [2, 1, 1], [2, 2, 1], [2, 3, 2], [2, 4, 2], [3, 1, 2], [3, 2, 2], [3, 3, 3], [3, 4, 3], [4, 1, 3], [4, 2, 3], [4, 3, 4], [4, 4, 4], [5, 1, 4], [5, 2, 4], [5, 3, 5], [5, 4, 5], [6, 1, 5], [6, 2, 5], [6, 3, 6], [6, 4, 6], [7, 1, 1], [7, 2, 4], [7, 3, 5], [7, 4, 6], [8, 1, 1], [8, 2, 4], [8, 3, 5], [8, 4, 6], [9, 1, 2], [9, 2, 6], [9, 3, 7], [9, 4, 7], [10, 1, 8], [10, 2, 9], [10, 3, 9], [10, 4, 9]]\n",
    "#dat_maxmin = np.array(dat_maxmin)\n",
    "\n",
    "dat_minmax = [[1.0, 11.0, 3.0], [1.0, 12.0, 3.0], [1.0, 13.0, 3.0], [1.0, 14.0, 3.0], [10.0, 101.0, 9.0], [10.0, 102.0, 9.0], [10.0, 103.0, 9.0], [10.0, 104.0, 9.0], [2.0, 21.0, 1.0], [2.0, 22.0, 1.0], [2.0, 23.0, 1.0], [2.0, 24.0, 1.0], [3.0, 31.0, 15.0], [3.0, 32.0, 2.0], [3.0, 33.0, 2.0], [3.0, 34.0, 2.0], [4.0, 41.0, 11.0], [4.0, 42.0, 11.0], [4.0, 43.0, 11.0], [4.0, 44.0, 11.0], [5.0, 51.0, 5.0], [5.0, 52.0, 5.0], [5.0, 53.0, 5.0], [5.0, 54.0, 5.0], [6.0, 61.0, 13.0], [6.0, 62.0, 6.0], [6.0, 63.0, 6.0], [6.0, 64.0, 6.0], [7.0, 71.0, 7.0], [7.0, 72.0, 7.0], [7.0, 73.0, 7.0], [7.0, 74.0, 7.0], [8.0, 81.0, 15.0], [8.0, 82.0, 4.0], [8.0, 83.0, 4.0], [8.0, 84.0, 4.0], [9.0, 91.0, 8.0], [9.0, 92.0, 8.0], [9.0, 93.0, 8.0], [9.0, 94.0, 8.0]]\n",
    "dat_minmax = np.array(dat_minmax)\n",
    "dat_maxmin = [[1.0, 11.0, 3.0], [1.0, 12.0, 3.0], [1.0, 13.0, 3.0], [1.0, 14.0, 3.0], [10.0, 101.0, 9.0], [10.0, 102.0, 9.0], [10.0, 103.0, 9.0], [10.0, 104.0, 9.0], [2.0, 21.0, 1.0], [2.0, 22.0, 1.0], [2.0, 23.0, 1.0], [2.0, 24.0, 1.0], [3.0, 31.0, 15.0], [3.0, 32.0, 2.0], [3.0, 33.0, 2.0], [3.0, 34.0, 2.0], [4.0, 41.0, 11.0], [4.0, 42.0, 11.0], [4.0, 43.0, 11.0], [4.0, 44.0, 11.0], [5.0, 51.0, 5.0], [5.0, 52.0, 5.0], [5.0, 53.0, 5.0], [5.0, 54.0, 5.0], [6.0, 61.0, 13.0], [6.0, 62.0, 6.0], [6.0, 63.0, 6.0], [6.0, 64.0, 6.0], [7.0, 71.0, 7.0], [7.0, 72.0, 7.0], [7.0, 73.0, 7.0], [7.0, 74.0, 7.0], [8.0, 81.0, 15.0], [8.0, 82.0, 4.0], [8.0, 83.0, 4.0], [8.0, 84.0, 4.0], [9.0, 91.0, 8.0], [9.0, 92.0, 8.0], [9.0, 93.0, 8.0], [9.0, 94.0, 8.0]]\n",
    "dat_maxmin = np.array(dat_maxmin)"
   ]
  },
  {
   "cell_type": "code",
   "execution_count": 9,
   "metadata": {},
   "outputs": [
    {
     "name": "stdout",
     "output_type": "stream",
     "text": [
      "[0, 0.869079932242852, 0.7530658836844065, 1.100543434219282, 0.7503024406346467, 0.7392578880972456, 1.0638971732303253, 0.8069041566538755, 1.102086789410608, 0.7366013960613824]\n",
      "[0, 4.049425136219756, 3.661715084701064, 6.04782587357691, 3.431288634815455, 4.13830771253855, 6.565650395327328, 4.08928934963466, 5.944044194147804, 3.8533424393429243]\n"
     ]
    }
   ],
   "source": [
    "delay_list_1k = []#delay for each service chain\n",
    "delay_list_64k = []#delay for each service chain\n",
    "dat = dat_maxmin\n",
    "for i in range(10):\n",
    "    tmp = dat[dat[:, 0] == i]\n",
    "    delay1k = 0\n",
    "    delay64k = 0\n",
    "    for j in range(len(tmp)-1):\n",
    "        if tmp[j, -1] != tmp[j+1, -1]:\n",
    "            delay1k += np.random.randn()*0.0911 + 0.593\n",
    "            delay64k += np.random.randn()*0.50177 + 4.1442\n",
    "        elif tmp[j, -1] == tmp[j+1, -1]:\n",
    "            delay1k += np.random.randn()*0.02926 + 0.2559\n",
    "            delay64k += np.random.randn()*0.18441 + 1.2698\n",
    "    delay_list_1k.append(delay1k)\n",
    "    delay_list_64k.append(delay64k)\n",
    "print delay_list_1k\n",
    "print delay_list_64k"
   ]
  },
  {
   "cell_type": "code",
   "execution_count": 10,
   "metadata": {},
   "outputs": [
    {
     "name": "stdout",
     "output_type": "stream",
     "text": [
      "[0, 0, 0, 8000, 0, 0, 8000, 0, 8000, 0]\n",
      "[0, 0, 0, 512000, 0, 0, 512000, 0, 512000, 0]\n"
     ]
    }
   ],
   "source": [
    "#dat = dat_minmax\n",
    "\n",
    "PACKET_SIZE = 1000\n",
    "packet_list_1k = []\n",
    "packet_list_64k = []\n",
    "#dat = dat_maxmin\n",
    "for i in range(10):\n",
    "    tmp = dat[dat[:, 0] == i]\n",
    "    packet1k = 0\n",
    "    packet64k = 0\n",
    "    for j in range(len(tmp)-1):\n",
    "        if tmp[j, -1] != tmp[j+1, -1]:\n",
    "            packet1k += 1000*8\n",
    "            packet64k += 64000*8\n",
    "        elif tmp[j, -1] == tmp[j+1, -1]:\n",
    "            packet1k += 0\n",
    "            packet64k += 0\n",
    "    packet_list_1k.append(packet1k)\n",
    "    packet_list_64k.append(packet64k)\n",
    "print packet_list_1k\n",
    "print packet_list_64k\n"
   ]
  },
  {
   "cell_type": "code",
   "execution_count": null,
   "metadata": {},
   "outputs": [],
   "source": []
  },
  {
   "cell_type": "code",
   "execution_count": 66,
   "metadata": {},
   "outputs": [
    {
     "name": "stdout",
     "output_type": "stream",
     "text": [
      "[[3 3 3 3]\n",
      " [6 6 6 6]\n",
      " [7 7 7 7]\n",
      " [6 6 6 6]\n",
      " [5 5 5 5]\n",
      " [6 6 6 6]\n",
      " [4 4 4 4]\n",
      " [6 6 6 6]\n",
      " [2 2 2 2]\n",
      " [7 7 7 7]]\n",
      "---------\n",
      "[27, 18, 16, 25, 16, 28, 28, 21, 15, 19, 17, 22, 20, 19, 26]\n",
      "---------\n",
      "[15, 16, 16, 17, 18, 19, 19, 20, 21, 22, 25, 26, 27, 28, 28]\n",
      "---------\n",
      "[12, 24, 28, 24, 20, 24, 16, 24, 8, 28]\n"
     ]
    }
   ],
   "source": [
    "import numpy as np\n",
    "#Given chain CPU requirement\n",
    "D0 = [3, 6, 7, 6, 5, 6, 4, 6, 2, 7]\n",
    "chain_list = np.array([[i, i, i, i] for i in D0])\n",
    "\n",
    "server_list = [np.random.randint(15) + 15 for i in range(15)]\n",
    "server_list_sorted = sorted(server_list)\n",
    "\n",
    "print chain_list\n",
    "print '---------'\n",
    "print server_list\n",
    "print '---------'\n",
    "print server_list_sorted\n",
    "print '---------'\n",
    "CPU_list = chain_list.sum(axis=1)\n",
    "print CPU_list.tolist()"
   ]
  },
  {
   "cell_type": "code",
   "execution_count": 52,
   "metadata": {},
   "outputs": [],
   "source": [
    "def deploy_gathering_item(CPU, server_list):\n",
    "    for idx, server in enumerate(server_list):\n",
    "        if CPU <= server:\n",
    "            server_list[idx] = server - CPU\n",
    "            return server_list\n",
    "    return None\n",
    "\n",
    "def deploy_gathering(CPU_list, server_list):\n",
    "    debug = []\n",
    "    for CPU in CPU_list:\n",
    "        tmp = deploy_gathering_item(CPU, server_list)\n",
    "        if tmp != None:\n",
    "            debug.append(list(tmp))\n",
    "        else:\n",
    "            #print 'Failed deployment for CPU: {}'.format(CPU)\n",
    "            debug.append(list(server_list))\n",
    "    return debug"
   ]
  },
  {
   "cell_type": "code",
   "execution_count": 53,
   "metadata": {},
   "outputs": [
    {
     "name": "stdout",
     "output_type": "stream",
     "text": [
      "27,26,28,18,23,22,20,18,28,17,24,17,22,15,26\n",
      "15,26,28,18,23,22,20,18,28,17,24,17,22,15,26\n",
      "15,2,28,18,23,22,20,18,28,17,24,17,22,15,26\n",
      "15,2,0,18,23,22,20,18,28,17,24,17,22,15,26\n",
      "15,2,0,18,23,22,20,18,4,17,24,17,22,15,26\n",
      "15,2,0,18,3,22,20,18,4,17,24,17,22,15,26\n",
      "15,2,0,18,3,22,20,18,4,17,0,17,22,15,26\n",
      "15,2,0,2,3,22,20,18,4,17,0,17,22,15,26\n",
      "15,2,0,2,3,22,20,18,4,17,0,17,22,15,2\n",
      "7,2,0,2,3,22,20,18,4,17,0,17,22,15,2\n",
      "7,2,0,2,3,22,20,18,4,17,0,17,22,15,2\n"
     ]
    }
   ],
   "source": [
    "s_list = list(server_list)\n",
    "print ','.join(map(str, s_list))\n",
    "debug = deploy_gathering(CPU_list, s_list)\n",
    "for item in debug:\n",
    "    print ','.join(map(str, item))"
   ]
  },
  {
   "cell_type": "code",
   "execution_count": 51,
   "metadata": {},
   "outputs": [
    {
     "data": {
      "text/plain": [
       "array([12, 24, 28, 24, 20, 24, 16, 24,  8, 28])"
      ]
     },
     "execution_count": 51,
     "metadata": {},
     "output_type": "execute_result"
    }
   ],
   "source": [
    "CPU_list\n"
   ]
  },
  {
   "cell_type": "code",
   "execution_count": 61,
   "metadata": {},
   "outputs": [
    {
     "data": {
      "text/plain": [
       "[28, 28, 27, 26, 26, 24, 23, 22, 22, 20, 18, 18, 17, 17, 15]"
      ]
     },
     "execution_count": 61,
     "metadata": {},
     "output_type": "execute_result"
    }
   ],
   "source": [
    "sorted(server_list, reverse=True)"
   ]
  },
  {
   "cell_type": "code",
   "execution_count": null,
   "metadata": {},
   "outputs": [],
   "source": []
  }
 ],
 "metadata": {
  "kernelspec": {
   "display_name": "Python 2",
   "language": "python",
   "name": "python2"
  },
  "language_info": {
   "codemirror_mode": {
    "name": "ipython",
    "version": 2
   },
   "file_extension": ".py",
   "mimetype": "text/x-python",
   "name": "python",
   "nbconvert_exporter": "python",
   "pygments_lexer": "ipython2",
   "version": "2.7.15"
  }
 },
 "nbformat": 4,
 "nbformat_minor": 2
}
