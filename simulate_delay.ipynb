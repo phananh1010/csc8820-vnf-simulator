{
 "cells": [
  {
   "cell_type": "code",
   "execution_count": 1,
   "metadata": {},
   "outputs": [],
   "source": [
    "text = '''Service Chain ID= 1  Bell ID= 1  Partition ID= 1  VNF ID= 11  VNF CPU= 3  VNF Flow= 1  Server= 14  cpu_total= 18  cpu_used= 12.0  cpu_avail= 3.0  VNF Length on Server= 4.0  VNF Length on Partition= 4  Total Required CPU= 12.0  Switching Cost 0.0\n",
    "Service Chain ID= 1  Bell ID= 1  Partition ID= 1  VNF ID= 12  VNF CPU= 3  VNF Flow= 2  Server= 14  cpu_total= 18  cpu_used= 12.0  cpu_avail= 3.0  VNF Length on Server= 4.0  VNF Length on Partition= 4  Total Required CPU= 12.0  Switching Cost 0.0\n",
    "Service Chain ID= 1  Bell ID= 1  Partition ID= 1  VNF ID= 13  VNF CPU= 3  VNF Flow= 3  Server= 14  cpu_total= 18  cpu_used= 12.0  cpu_avail= 3.0  VNF Length on Server= 4.0  VNF Length on Partition= 4  Total Required CPU= 12.0  Switching Cost 0.0\n",
    "Service Chain ID= 1  Bell ID= 1  Partition ID= 1  VNF ID= 14  VNF CPU= 3  VNF Flow= 4  Server= 14  cpu_total= 18  cpu_used= 12.0  cpu_avail= 3.0  VNF Length on Server= 4.0  VNF Length on Partition= 4  Total Required CPU= 12.0  Switching Cost 0.0\n",
    "Service Chain ID= 10  Bell ID= 1  Partition ID= 1  VNF ID= 101  VNF CPU= 7  VNF Flow= 1  Server= 3  cpu_total= 31  cpu_used= 28.0  cpu_avail= 0.0  VNF Length on Server= 4.0  VNF Length on Partition= 4  Total Required CPU= 28.0  Switching Cost 0.0\n",
    "Service Chain ID= 10  Bell ID= 1  Partition ID= 1  VNF ID= 102  VNF CPU= 7  VNF Flow= 2  Server= 3  cpu_total= 31  cpu_used= 28.0  cpu_avail= 0.0  VNF Length on Server= 4.0  VNF Length on Partition= 4  Total Required CPU= 28.0  Switching Cost 0.0\n",
    "Service Chain ID= 10  Bell ID= 1  Partition ID= 1  VNF ID= 103  VNF CPU= 7  VNF Flow= 3  Server= 3  cpu_total= 31  cpu_used= 28.0  cpu_avail= 0.0  VNF Length on Server= 4.0  VNF Length on Partition= 4  Total Required CPU= 28.0  Switching Cost 0.0\n",
    "Service Chain ID= 10  Bell ID= 1  Partition ID= 1  VNF ID= 104  VNF CPU= 7  VNF Flow= 4  Server= 3  cpu_total= 31  cpu_used= 28.0  cpu_avail= 0.0  VNF Length on Server= 4.0  VNF Length on Partition= 4  Total Required CPU= 28.0  Switching Cost 0.0\n",
    "Service Chain ID= 2  Bell ID= 1  Partition ID= 1  VNF ID= 21  VNF CPU= 6  VNF Flow= 1  Server= 11  cpu_total= 27  cpu_used= 24.0  cpu_avail= 0.0  VNF Length on Server= 4.0  VNF Length on Partition= 4  Total Required CPU= 24.0  Switching Cost 0.0\n",
    "Service Chain ID= 2  Bell ID= 1  Partition ID= 1  VNF ID= 22  VNF CPU= 6  VNF Flow= 2  Server= 11  cpu_total= 27  cpu_used= 24.0  cpu_avail= 0.0  VNF Length on Server= 4.0  VNF Length on Partition= 4  Total Required CPU= 24.0  Switching Cost 0.0\n",
    "Service Chain ID= 2  Bell ID= 1  Partition ID= 1  VNF ID= 23  VNF CPU= 6  VNF Flow= 3  Server= 11  cpu_total= 27  cpu_used= 24.0  cpu_avail= 0.0  VNF Length on Server= 4.0  VNF Length on Partition= 4  Total Required CPU= 24.0  Switching Cost 0.0\n",
    "Service Chain ID= 2  Bell ID= 1  Partition ID= 1  VNF ID= 24  VNF CPU= 6  VNF Flow= 4  Server= 11  cpu_total= 27  cpu_used= 24.0  cpu_avail= 0.0  VNF Length on Server= 4.0  VNF Length on Partition= 4  Total Required CPU= 24.0  Switching Cost 0.0\n",
    "Service Chain ID= 3  Bell ID= 1  Partition ID= 1  VNF ID= 31  VNF CPU= 7  VNF Flow= 1  Server= 9  cpu_total= 31  cpu_used= 28.0  cpu_avail= 0.0  VNF Length on Server= 4.0  VNF Length on Partition= 4  Total Required CPU= 28.0  Switching Cost 0.0\n",
    "Service Chain ID= 3  Bell ID= 1  Partition ID= 1  VNF ID= 32  VNF CPU= 7  VNF Flow= 2  Server= 9  cpu_total= 31  cpu_used= 28.0  cpu_avail= 0.0  VNF Length on Server= 4.0  VNF Length on Partition= 4  Total Required CPU= 28.0  Switching Cost 0.0\n",
    "Service Chain ID= 3  Bell ID= 1  Partition ID= 1  VNF ID= 33  VNF CPU= 7  VNF Flow= 3  Server= 9  cpu_total= 31  cpu_used= 28.0  cpu_avail= 0.0  VNF Length on Server= 4.0  VNF Length on Partition= 4  Total Required CPU= 28.0  Switching Cost 0.0\n",
    "Service Chain ID= 3  Bell ID= 1  Partition ID= 1  VNF ID= 34  VNF CPU= 7  VNF Flow= 4  Server= 9  cpu_total= 31  cpu_used= 28.0  cpu_avail= 0.0  VNF Length on Server= 4.0  VNF Length on Partition= 4  Total Required CPU= 28.0  Switching Cost 0.0\n",
    "Service Chain ID= 4  Bell ID= 1  Partition ID= 1  VNF ID= 41  VNF CPU= 6  VNF Flow= 1  Server= 5  cpu_total= 26  cpu_used= 24.0  cpu_avail= 0.0  VNF Length on Server= 4.0  VNF Length on Partition= 4  Total Required CPU= 24.0  Switching Cost 0.0\n",
    "Service Chain ID= 4  Bell ID= 1  Partition ID= 1  VNF ID= 42  VNF CPU= 6  VNF Flow= 2  Server= 5  cpu_total= 26  cpu_used= 24.0  cpu_avail= 0.0  VNF Length on Server= 4.0  VNF Length on Partition= 4  Total Required CPU= 24.0  Switching Cost 0.0\n",
    "Service Chain ID= 4  Bell ID= 1  Partition ID= 1  VNF ID= 43  VNF CPU= 6  VNF Flow= 3  Server= 5  cpu_total= 26  cpu_used= 24.0  cpu_avail= 0.0  VNF Length on Server= 4.0  VNF Length on Partition= 4  Total Required CPU= 24.0  Switching Cost 0.0\n",
    "Service Chain ID= 4  Bell ID= 1  Partition ID= 1  VNF ID= 44  VNF CPU= 6  VNF Flow= 4  Server= 5  cpu_total= 26  cpu_used= 24.0  cpu_avail= 0.0  VNF Length on Server= 4.0  VNF Length on Partition= 4  Total Required CPU= 24.0  Switching Cost 0.0\n",
    "Service Chain ID= 5  Bell ID= 1  Partition ID= 1  VNF ID= 51  VNF CPU= 6  VNF Flow= 1  Server= 15  cpu_total= 29  cpu_used= 24.0  cpu_avail= 2.0  VNF Length on Server= 4.0  VNF Length on Partition= 4  Total Required CPU= 24.0  Switching Cost 0.0\n",
    "Service Chain ID= 5  Bell ID= 1  Partition ID= 1  VNF ID= 52  VNF CPU= 6  VNF Flow= 2  Server= 15  cpu_total= 29  cpu_used= 24.0  cpu_avail= 2.0  VNF Length on Server= 4.0  VNF Length on Partition= 4  Total Required CPU= 24.0  Switching Cost 0.0\n",
    "Service Chain ID= 5  Bell ID= 1  Partition ID= 1  VNF ID= 53  VNF CPU= 6  VNF Flow= 3  Server= 15  cpu_total= 29  cpu_used= 24.0  cpu_avail= 2.0  VNF Length on Server= 4.0  VNF Length on Partition= 4  Total Required CPU= 24.0  Switching Cost 0.0\n",
    "Service Chain ID= 5  Bell ID= 1  Partition ID= 1  VNF ID= 54  VNF CPU= 6  VNF Flow= 4  Server= 15  cpu_total= 29  cpu_used= 24.0  cpu_avail= 2.0  VNF Length on Server= 4.0  VNF Length on Partition= 4  Total Required CPU= 24.0  Switching Cost 0.0\n",
    "Service Chain ID= 6  Bell ID= 1  Partition ID= 1  VNF ID= 61  VNF CPU= 6  VNF Flow= 1  Server= 2  cpu_total= 29  cpu_used= 24.0  cpu_avail= 2.0  VNF Length on Server= 4.0  VNF Length on Partition= 4  Total Required CPU= 24.0  Switching Cost 0.0\n",
    "Service Chain ID= 6  Bell ID= 1  Partition ID= 1  VNF ID= 62  VNF CPU= 6  VNF Flow= 2  Server= 2  cpu_total= 29  cpu_used= 24.0  cpu_avail= 2.0  VNF Length on Server= 4.0  VNF Length on Partition= 4  Total Required CPU= 24.0  Switching Cost 0.0\n",
    "Service Chain ID= 6  Bell ID= 1  Partition ID= 1  VNF ID= 63  VNF CPU= 6  VNF Flow= 3  Server= 2  cpu_total= 29  cpu_used= 24.0  cpu_avail= 2.0  VNF Length on Server= 4.0  VNF Length on Partition= 4  Total Required CPU= 24.0  Switching Cost 0.0\n",
    "Service Chain ID= 6  Bell ID= 1  Partition ID= 1  VNF ID= 64  VNF CPU= 6  VNF Flow= 4  Server= 2  cpu_total= 29  cpu_used= 24.0  cpu_avail= 2.0  VNF Length on Server= 4.0  VNF Length on Partition= 4  Total Required CPU= 24.0  Switching Cost 0.0\n",
    "Service Chain ID= 7  Bell ID= 1  Partition ID= 1  VNF ID= 71  VNF CPU= 4  VNF Flow= 1  Server= 10  cpu_total= 20  cpu_used= 16.0  cpu_avail= 1.0  VNF Length on Server= 4.0  VNF Length on Partition= 4  Total Required CPU= 16.0  Switching Cost 0.0\n",
    "Service Chain ID= 7  Bell ID= 1  Partition ID= 1  VNF ID= 72  VNF CPU= 4  VNF Flow= 2  Server= 10  cpu_total= 20  cpu_used= 16.0  cpu_avail= 1.0  VNF Length on Server= 4.0  VNF Length on Partition= 4  Total Required CPU= 16.0  Switching Cost 0.0\n",
    "Service Chain ID= 7  Bell ID= 1  Partition ID= 1  VNF ID= 73  VNF CPU= 4  VNF Flow= 3  Server= 10  cpu_total= 20  cpu_used= 16.0  cpu_avail= 1.0  VNF Length on Server= 4.0  VNF Length on Partition= 4  Total Required CPU= 16.0  Switching Cost 0.0\n",
    "Service Chain ID= 7  Bell ID= 1  Partition ID= 1  VNF ID= 74  VNF CPU= 4  VNF Flow= 4  Server= 10  cpu_total= 20  cpu_used= 16.0  cpu_avail= 1.0  VNF Length on Server= 4.0  VNF Length on Partition= 4  Total Required CPU= 16.0  Switching Cost 0.0\n",
    "Service Chain ID= 8  Bell ID= 1  Partition ID= 1  VNF ID= 81  VNF CPU= 6  VNF Flow= 1  Server= 1  cpu_total= 30  cpu_used= 24.0  cpu_avail= 3.0  VNF Length on Server= 4.0  VNF Length on Partition= 4  Total Required CPU= 24.0  Switching Cost 0.0\n",
    "Service Chain ID= 8  Bell ID= 1  Partition ID= 1  VNF ID= 82  VNF CPU= 6  VNF Flow= 2  Server= 1  cpu_total= 30  cpu_used= 24.0  cpu_avail= 3.0  VNF Length on Server= 4.0  VNF Length on Partition= 4  Total Required CPU= 24.0  Switching Cost 0.0\n",
    "Service Chain ID= 8  Bell ID= 1  Partition ID= 1  VNF ID= 83  VNF CPU= 6  VNF Flow= 3  Server= 1  cpu_total= 30  cpu_used= 24.0  cpu_avail= 3.0  VNF Length on Server= 4.0  VNF Length on Partition= 4  Total Required CPU= 24.0  Switching Cost 0.0\n",
    "Service Chain ID= 8  Bell ID= 1  Partition ID= 1  VNF ID= 84  VNF CPU= 6  VNF Flow= 4  Server= 1  cpu_total= 30  cpu_used= 24.0  cpu_avail= 3.0  VNF Length on Server= 4.0  VNF Length on Partition= 4  Total Required CPU= 24.0  Switching Cost 0.0\n",
    "Service Chain ID= 9  Bell ID= 1  Partition ID= 1  VNF ID= 91  VNF CPU= 2  VNF Flow= 1  Server= 12  cpu_total= 20  cpu_used= 8.0  cpu_avail= 9.0  VNF Length on Server= 4.0  VNF Length on Partition= 4  Total Required CPU= 8.0  Switching Cost 0.0\n",
    "Service Chain ID= 9  Bell ID= 1  Partition ID= 1  VNF ID= 92  VNF CPU= 2  VNF Flow= 2  Server= 12  cpu_total= 20  cpu_used= 8.0  cpu_avail= 9.0  VNF Length on Server= 4.0  VNF Length on Partition= 4  Total Required CPU= 8.0  Switching Cost 0.0\n",
    "Service Chain ID= 9  Bell ID= 1  Partition ID= 1  VNF ID= 93  VNF CPU= 2  VNF Flow= 3  Server= 12  cpu_total= 20  cpu_used= 8.0  cpu_avail= 9.0  VNF Length on Server= 4.0  VNF Length on Partition= 4  Total Required CPU= 8.0  Switching Cost 0.0\n",
    "Service Chain ID= 9  Bell ID= 1  Partition ID= 1  VNF ID= 94  VNF CPU= 2  VNF Flow= 4  Server= 12  cpu_total= 20  cpu_used= 8.0  cpu_avail= 9.0  VNF Length on Server= 4.0  VNF Length on Partition= 4  Total Required CPU= 8.0  Switching Cost 0.0'''\n",
    "\n",
    "text2 = '''Service Chain ID= 1  Bell ID= 1  Partition ID= 1  VNF ID= 11  VNF CPU= 3  VNF Flow= 1  Server= 3  cpu_total= 31  cpu_used= 12.0  cpu_avail= 16.0  VNF Length on Server= 4.0  VNF Length on Partition= 4  Total Required CPU= 12.0  Switching Cost 0.0\n",
    "Service Chain ID= 1  Bell ID= 1  Partition ID= 1  VNF ID= 12  VNF CPU= 3  VNF Flow= 2  Server= 3  cpu_total= 31  cpu_used= 12.0  cpu_avail= 16.0  VNF Length on Server= 4.0  VNF Length on Partition= 4  Total Required CPU= 12.0  Switching Cost 0.0\n",
    "Service Chain ID= 1  Bell ID= 1  Partition ID= 1  VNF ID= 13  VNF CPU= 3  VNF Flow= 3  Server= 3  cpu_total= 31  cpu_used= 12.0  cpu_avail= 16.0  VNF Length on Server= 4.0  VNF Length on Partition= 4  Total Required CPU= 12.0  Switching Cost 0.0\n",
    "Service Chain ID= 1  Bell ID= 1  Partition ID= 1  VNF ID= 14  VNF CPU= 3  VNF Flow= 4  Server= 3  cpu_total= 31  cpu_used= 12.0  cpu_avail= 16.0  VNF Length on Server= 4.0  VNF Length on Partition= 4  Total Required CPU= 12.0  Switching Cost 0.0\n",
    "Service Chain ID= 10  Bell ID= 1  Partition ID= 1  VNF ID= 101  VNF CPU= 7  VNF Flow= 1  Server= 9  cpu_total= 31  cpu_used= 28.0  cpu_avail= 0.0  VNF Length on Server= 4.0  VNF Length on Partition= 4  Total Required CPU= 28.0  Switching Cost 0.0\n",
    "Service Chain ID= 10  Bell ID= 1  Partition ID= 1  VNF ID= 102  VNF CPU= 7  VNF Flow= 2  Server= 9  cpu_total= 31  cpu_used= 28.0  cpu_avail= 0.0  VNF Length on Server= 4.0  VNF Length on Partition= 4  Total Required CPU= 28.0  Switching Cost 0.0\n",
    "Service Chain ID= 10  Bell ID= 1  Partition ID= 1  VNF ID= 103  VNF CPU= 7  VNF Flow= 3  Server= 9  cpu_total= 31  cpu_used= 28.0  cpu_avail= 0.0  VNF Length on Server= 4.0  VNF Length on Partition= 4  Total Required CPU= 28.0  Switching Cost 0.0\n",
    "Service Chain ID= 10  Bell ID= 1  Partition ID= 1  VNF ID= 104  VNF CPU= 7  VNF Flow= 4  Server= 9  cpu_total= 31  cpu_used= 28.0  cpu_avail= 0.0  VNF Length on Server= 4.0  VNF Length on Partition= 4  Total Required CPU= 28.0  Switching Cost 0.0\n",
    "Service Chain ID= 2  Bell ID= 1  Partition ID= 1  VNF ID= 21  VNF CPU= 6  VNF Flow= 1  Server= 1  cpu_total= 30  cpu_used= 24.0  cpu_avail= 3.0  VNF Length on Server= 4.0  VNF Length on Partition= 4  Total Required CPU= 24.0  Switching Cost 0.0\n",
    "Service Chain ID= 2  Bell ID= 1  Partition ID= 1  VNF ID= 22  VNF CPU= 6  VNF Flow= 2  Server= 1  cpu_total= 30  cpu_used= 24.0  cpu_avail= 3.0  VNF Length on Server= 4.0  VNF Length on Partition= 4  Total Required CPU= 24.0  Switching Cost 0.0\n",
    "Service Chain ID= 2  Bell ID= 1  Partition ID= 1  VNF ID= 23  VNF CPU= 6  VNF Flow= 3  Server= 1  cpu_total= 30  cpu_used= 24.0  cpu_avail= 3.0  VNF Length on Server= 4.0  VNF Length on Partition= 4  Total Required CPU= 24.0  Switching Cost 0.0\n",
    "Service Chain ID= 2  Bell ID= 1  Partition ID= 1  VNF ID= 24  VNF CPU= 6  VNF Flow= 4  Server= 1  cpu_total= 30  cpu_used= 24.0  cpu_avail= 3.0  VNF Length on Server= 4.0  VNF Length on Partition= 4  Total Required CPU= 24.0  Switching Cost 0.0\n",
    "Service Chain ID= 3  Bell ID= 2  Partition ID= 1  VNF ID= 31  VNF CPU= 7  VNF Flow= 1  Server= 15  cpu_total= 29  cpu_used= 7.0  cpu_avail= 19.0  VNF Length on Server= 1.0  VNF Length on Partition= 1  Total Required CPU= 7.0  Switching Cost 0.0\n",
    "Service Chain ID= 3  Bell ID= 2  Partition ID= 2  VNF ID= 32  VNF CPU= 7  VNF Flow= 2  Server= 2  cpu_total= 29  cpu_used= 21.0  cpu_avail= 5.0  VNF Length on Server= 3.0  VNF Length on Partition= 3  Total Required CPU= 21.0  Switching Cost 0.0\n",
    "Service Chain ID= 3  Bell ID= 2  Partition ID= 2  VNF ID= 33  VNF CPU= 7  VNF Flow= 3  Server= 2  cpu_total= 29  cpu_used= 21.0  cpu_avail= 5.0  VNF Length on Server= 3.0  VNF Length on Partition= 3  Total Required CPU= 21.0  Switching Cost 0.0\n",
    "Service Chain ID= 3  Bell ID= 2  Partition ID= 2  VNF ID= 34  VNF CPU= 7  VNF Flow= 4  Server= 2  cpu_total= 29  cpu_used= 21.0  cpu_avail= 5.0  VNF Length on Server= 3.0  VNF Length on Partition= 3  Total Required CPU= 21.0  Switching Cost 0.0\n",
    "Service Chain ID= 4  Bell ID= 1  Partition ID= 1  VNF ID= 41  VNF CPU= 6  VNF Flow= 1  Server= 11  cpu_total= 27  cpu_used= 24.0  cpu_avail= 0.0  VNF Length on Server= 4.0  VNF Length on Partition= 4  Total Required CPU= 24.0  Switching Cost 0.0\n",
    "Service Chain ID= 4  Bell ID= 1  Partition ID= 1  VNF ID= 42  VNF CPU= 6  VNF Flow= 2  Server= 11  cpu_total= 27  cpu_used= 24.0  cpu_avail= 0.0  VNF Length on Server= 4.0  VNF Length on Partition= 4  Total Required CPU= 24.0  Switching Cost 0.0\n",
    "Service Chain ID= 4  Bell ID= 1  Partition ID= 1  VNF ID= 43  VNF CPU= 6  VNF Flow= 3  Server= 11  cpu_total= 27  cpu_used= 24.0  cpu_avail= 0.0  VNF Length on Server= 4.0  VNF Length on Partition= 4  Total Required CPU= 24.0  Switching Cost 0.0\n",
    "Service Chain ID= 4  Bell ID= 1  Partition ID= 1  VNF ID= 44  VNF CPU= 6  VNF Flow= 4  Server= 11  cpu_total= 27  cpu_used= 24.0  cpu_avail= 0.0  VNF Length on Server= 4.0  VNF Length on Partition= 4  Total Required CPU= 24.0  Switching Cost 0.0\n",
    "Service Chain ID= 5  Bell ID= 1  Partition ID= 1  VNF ID= 51  VNF CPU= 6  VNF Flow= 1  Server= 5  cpu_total= 26  cpu_used= 24.0  cpu_avail= 0.0  VNF Length on Server= 4.0  VNF Length on Partition= 4  Total Required CPU= 24.0  Switching Cost 0.0\n",
    "Service Chain ID= 5  Bell ID= 1  Partition ID= 1  VNF ID= 52  VNF CPU= 6  VNF Flow= 2  Server= 5  cpu_total= 26  cpu_used= 24.0  cpu_avail= 0.0  VNF Length on Server= 4.0  VNF Length on Partition= 4  Total Required CPU= 24.0  Switching Cost 0.0\n",
    "Service Chain ID= 5  Bell ID= 1  Partition ID= 1  VNF ID= 53  VNF CPU= 6  VNF Flow= 3  Server= 5  cpu_total= 26  cpu_used= 24.0  cpu_avail= 0.0  VNF Length on Server= 4.0  VNF Length on Partition= 4  Total Required CPU= 24.0  Switching Cost 0.0\n",
    "Service Chain ID= 5  Bell ID= 1  Partition ID= 1  VNF ID= 54  VNF CPU= 6  VNF Flow= 4  Server= 5  cpu_total= 26  cpu_used= 24.0  cpu_avail= 0.0  VNF Length on Server= 4.0  VNF Length on Partition= 4  Total Required CPU= 24.0  Switching Cost 0.0\n",
    "Service Chain ID= 6  Bell ID= 2  Partition ID= 1  VNF ID= 61  VNF CPU= 6  VNF Flow= 1  Server= 13  cpu_total= 25  cpu_used= 6.0  cpu_avail= 16.0  VNF Length on Server= 1.0  VNF Length on Partition= 1  Total Required CPU= 6.0  Switching Cost 0.0\n",
    "Service Chain ID= 6  Bell ID= 2  Partition ID= 2  VNF ID= 62  VNF CPU= 6  VNF Flow= 2  Server= 6  cpu_total= 25  cpu_used= 18.0  cpu_avail= 4.0  VNF Length on Server= 3.0  VNF Length on Partition= 3  Total Required CPU= 18.0  Switching Cost 0.0\n",
    "Service Chain ID= 6  Bell ID= 2  Partition ID= 2  VNF ID= 63  VNF CPU= 6  VNF Flow= 3  Server= 6  cpu_total= 25  cpu_used= 18.0  cpu_avail= 4.0  VNF Length on Server= 3.0  VNF Length on Partition= 3  Total Required CPU= 18.0  Switching Cost 0.0\n",
    "Service Chain ID= 6  Bell ID= 2  Partition ID= 2  VNF ID= 64  VNF CPU= 6  VNF Flow= 4  Server= 6  cpu_total= 25  cpu_used= 18.0  cpu_avail= 4.0  VNF Length on Server= 3.0  VNF Length on Partition= 3  Total Required CPU= 18.0  Switching Cost 0.0\n",
    "Service Chain ID= 7  Bell ID= 1  Partition ID= 1  VNF ID= 71  VNF CPU= 4  VNF Flow= 1  Server= 7  cpu_total= 23  cpu_used= 16.0  cpu_avail= 4.0  VNF Length on Server= 4.0  VNF Length on Partition= 4  Total Required CPU= 16.0  Switching Cost 0.0\n",
    "Service Chain ID= 7  Bell ID= 1  Partition ID= 1  VNF ID= 72  VNF CPU= 4  VNF Flow= 2  Server= 7  cpu_total= 23  cpu_used= 16.0  cpu_avail= 4.0  VNF Length on Server= 4.0  VNF Length on Partition= 4  Total Required CPU= 16.0  Switching Cost 0.0\n",
    "Service Chain ID= 7  Bell ID= 1  Partition ID= 1  VNF ID= 73  VNF CPU= 4  VNF Flow= 3  Server= 7  cpu_total= 23  cpu_used= 16.0  cpu_avail= 4.0  VNF Length on Server= 4.0  VNF Length on Partition= 4  Total Required CPU= 16.0  Switching Cost 0.0\n",
    "Service Chain ID= 7  Bell ID= 1  Partition ID= 1  VNF ID= 74  VNF CPU= 4  VNF Flow= 4  Server= 7  cpu_total= 23  cpu_used= 16.0  cpu_avail= 4.0  VNF Length on Server= 4.0  VNF Length on Partition= 4  Total Required CPU= 16.0  Switching Cost 0.0\n",
    "Service Chain ID= 8  Bell ID= 2  Partition ID= 1  VNF ID= 81  VNF CPU= 6  VNF Flow= 1  Server= 15  cpu_total= 29  cpu_used= 13.0  cpu_avail= 13.0  VNF Length on Server= 2.0  VNF Length on Partition= 1  Total Required CPU= 6.0  Switching Cost 0.0\n",
    "Service Chain ID= 8  Bell ID= 2  Partition ID= 2  VNF ID= 82  VNF CPU= 6  VNF Flow= 2  Server= 4  cpu_total= 21  cpu_used= 18.0  cpu_avail= 0.0  VNF Length on Server= 3.0  VNF Length on Partition= 3  Total Required CPU= 18.0  Switching Cost 0.0\n",
    "Service Chain ID= 8  Bell ID= 2  Partition ID= 2  VNF ID= 83  VNF CPU= 6  VNF Flow= 3  Server= 4  cpu_total= 21  cpu_used= 18.0  cpu_avail= 0.0  VNF Length on Server= 3.0  VNF Length on Partition= 3  Total Required CPU= 18.0  Switching Cost 0.0\n",
    "Service Chain ID= 8  Bell ID= 2  Partition ID= 2  VNF ID= 84  VNF CPU= 6  VNF Flow= 4  Server= 4  cpu_total= 21  cpu_used= 18.0  cpu_avail= 0.0  VNF Length on Server= 3.0  VNF Length on Partition= 3  Total Required CPU= 18.0  Switching Cost 0.0\n",
    "Service Chain ID= 9  Bell ID= 1  Partition ID= 1  VNF ID= 91  VNF CPU= 2  VNF Flow= 1  Server= 8  cpu_total= 21  cpu_used= 8.0  cpu_avail= 10.0  VNF Length on Server= 4.0  VNF Length on Partition= 4  Total Required CPU= 8.0  Switching Cost 0.0\n",
    "Service Chain ID= 9  Bell ID= 1  Partition ID= 1  VNF ID= 92  VNF CPU= 2  VNF Flow= 2  Server= 8  cpu_total= 21  cpu_used= 8.0  cpu_avail= 10.0  VNF Length on Server= 4.0  VNF Length on Partition= 4  Total Required CPU= 8.0  Switching Cost 0.0\n",
    "Service Chain ID= 9  Bell ID= 1  Partition ID= 1  VNF ID= 93  VNF CPU= 2  VNF Flow= 3  Server= 8  cpu_total= 21  cpu_used= 8.0  cpu_avail= 10.0  VNF Length on Server= 4.0  VNF Length on Partition= 4  Total Required CPU= 8.0  Switching Cost 0.0\n",
    "Service Chain ID= 9  Bell ID= 1  Partition ID= 1  VNF ID= 94  VNF CPU= 2  VNF Flow= 4  Server= 8  cpu_total= 21  cpu_used= 8.0  cpu_avail= 10.0  VNF Length on Server= 4.0  VNF Length on Partition= 4  Total Required CPU= 8.0  Switching Cost 0.0'''"
   ]
  },
  {
   "cell_type": "code",
   "execution_count": 1,
   "metadata": {},
   "outputs": [],
   "source": [
    "GLSA_D_raw = '''('c1', 'b1', 'p1', 'v11', 'u3', 'o1', 's14', 'c18', 'u13.03', 'a1.9700000000000006', 'l4.0', 'l4', 't12.0', 'cv1.03')\n",
    "('c1', 'b1', 'p1', 'v12', 'u3', 'o2', 's14', 'c18', 'u13.03', 'a1.9700000000000006', 'l4.0', 'l4', 't12.0', 'cv1.03')\n",
    "('c1', 'b1', 'p1', 'v13', 'u3', 'o3', 's14', 'c18', 'u13.03', 'a1.9700000000000006', 'l4.0', 'l4', 't12.0', 'cv1.03')\n",
    "('c1', 'b1', 'p1', 'v14', 'u3', 'o4', 's14', 'c18', 'u13.03', 'a1.9700000000000006', 'l4.0', 'l4', 't12.0', 'cv1.03')\n",
    "('c10', 'b2', 'p1', 'v101', 'u7', 'o1', 's10', 'c20', 'u7.59', 'a9.41', 'l1.0', 'l1', 't7.0', 'cv0.59')\n",
    "('c10', 'b2', 'p2', 'v102', 'u7', 'o2', 's13', 'c25', 'u21.91', 'a0.08999999999999986', 'l3.0', 'l3', 't21.0', 'cv0.91')\n",
    "('c10', 'b2', 'p2', 'v103', 'u7', 'o3', 's13', 'c25', 'u21.91', 'a0.08999999999999986', 'l3.0', 'l3', 't21.0', 'cv0.91')\n",
    "('c10', 'b2', 'p2', 'v104', 'u7', 'o4', 's13', 'c25', 'u21.91', 'a0.08999999999999986', 'l3.0', 'l3', 't21.0', 'cv0.91')\n",
    "('c2', 'b1', 'p1', 'v21', 'u6', 'o1', 's15', 'c29', 'u25.03', 'a0.9699999999999989', 'l4.0', 'l4', 't24.0', 'cv1.03')\n",
    "('c2', 'b1', 'p1', 'v22', 'u6', 'o2', 's15', 'c29', 'u25.03', 'a0.9699999999999989', 'l4.0', 'l4', 't24.0', 'cv1.03')\n",
    "('c2', 'b1', 'p1', 'v23', 'u6', 'o3', 's15', 'c29', 'u25.03', 'a0.9699999999999989', 'l4.0', 'l4', 't24.0', 'cv1.03')\n",
    "('c2', 'b1', 'p1', 'v24', 'u6', 'o4', 's15', 'c29', 'u25.03', 'a0.9699999999999989', 'l4.0', 'l4', 't24.0', 'cv1.03')\n",
    "('c3', 'b2', 'p1', 'v31', 'u7', 'o1', 's12', 'c20', 'u7.59', 'a9.41', 'l1.0', 'l1', 't7.0', 'cv0.59')\n",
    "('c3', 'b2', 'p2', 'v32', 'u7', 'o2', 's6', 'c25', 'u21.91', 'a0.08999999999999986', 'l3.0', 'l3', 't21.0', 'cv0.91')\n",
    "('c3', 'b2', 'p2', 'v33', 'u7', 'o3', 's6', 'c25', 'u21.91', 'a0.08999999999999986', 'l3.0', 'l3', 't21.0', 'cv0.91')\n",
    "('c3', 'b2', 'p2', 'v34', 'u7', 'o4', 's6', 'c25', 'u21.91', 'a0.08999999999999986', 'l3.0', 'l3', 't21.0', 'cv0.91')\n",
    "('c4', 'b1', 'p1', 'v41', 'u6', 'o1', 's2', 'c29', 'u25.03', 'a0.9699999999999989', 'l4.0', 'l4', 't24.0', 'cv1.03')\n",
    "('c4', 'b1', 'p1', 'v42', 'u6', 'o2', 's2', 'c29', 'u25.03', 'a0.9699999999999989', 'l4.0', 'l4', 't24.0', 'cv1.03')\n",
    "('c4', 'b1', 'p1', 'v43', 'u6', 'o3', 's2', 'c29', 'u25.03', 'a0.9699999999999989', 'l4.0', 'l4', 't24.0', 'cv1.03')\n",
    "('c4', 'b1', 'p1', 'v44', 'u6', 'o4', 's2', 'c29', 'u25.03', 'a0.9699999999999989', 'l4.0', 'l4', 't24.0', 'cv1.03')\n",
    "('c5', 'b1', 'p1', 'v51', 'u6', 'o1', 's1', 'c30', 'u25.03', 'a1.9699999999999989', 'l4.0', 'l4', 't24.0', 'cv1.03')\n",
    "('c5', 'b1', 'p1', 'v52', 'u6', 'o2', 's1', 'c30', 'u25.03', 'a1.9699999999999989', 'l4.0', 'l4', 't24.0', 'cv1.03')\n",
    "('c5', 'b1', 'p1', 'v53', 'u6', 'o3', 's1', 'c30', 'u25.03', 'a1.9699999999999989', 'l4.0', 'l4', 't24.0', 'cv1.03')\n",
    "('c5', 'b1', 'p1', 'v54', 'u6', 'o4', 's1', 'c30', 'u25.03', 'a1.9699999999999989', 'l4.0', 'l4', 't24.0', 'cv1.03')\n",
    "('c6', 'b1', 'p1', 'v61', 'u6', 'o1', 's3', 'c31', 'u25.03', 'a2.969999999999999', 'l4.0', 'l4', 't24.0', 'cv1.03')\n",
    "('c6', 'b1', 'p1', 'v62', 'u6', 'o2', 's3', 'c31', 'u25.03', 'a2.969999999999999', 'l4.0', 'l4', 't24.0', 'cv1.03')\n",
    "('c6', 'b1', 'p1', 'v63', 'u6', 'o3', 's3', 'c31', 'u25.03', 'a2.969999999999999', 'l4.0', 'l4', 't24.0', 'cv1.03')\n",
    "('c6', 'b1', 'p1', 'v64', 'u6', 'o4', 's3', 'c31', 'u25.03', 'a2.969999999999999', 'l4.0', 'l4', 't24.0', 'cv1.03')\n",
    "('c7', 'b1', 'p1', 'v71', 'u4', 'o1', 's4', 'c21', 'u17.03', 'a0.9699999999999989', 'l4.0', 'l4', 't16.0', 'cv1.03')\n",
    "('c7', 'b1', 'p1', 'v72', 'u4', 'o2', 's4', 'c21', 'u17.03', 'a0.9699999999999989', 'l4.0', 'l4', 't16.0', 'cv1.03')\n",
    "('c7', 'b1', 'p1', 'v73', 'u4', 'o3', 's4', 'c21', 'u17.03', 'a0.9699999999999989', 'l4.0', 'l4', 't16.0', 'cv1.03')\n",
    "('c7', 'b1', 'p1', 'v74', 'u4', 'o4', 's4', 'c21', 'u17.03', 'a0.9699999999999989', 'l4.0', 'l4', 't16.0', 'cv1.03')\n",
    "('c8', 'b1', 'p1', 'v81', 'u6', 'o1', 's9', 'c31', 'u25.03', 'a2.969999999999999', 'l4.0', 'l4', 't24.0', 'cv1.03')\n",
    "('c8', 'b1', 'p1', 'v82', 'u6', 'o2', 's9', 'c31', 'u25.03', 'a2.969999999999999', 'l4.0', 'l4', 't24.0', 'cv1.03')\n",
    "('c8', 'b1', 'p1', 'v83', 'u6', 'o3', 's9', 'c31', 'u25.03', 'a2.969999999999999', 'l4.0', 'l4', 't24.0', 'cv1.03')\n",
    "('c8', 'b1', 'p1', 'v84', 'u6', 'o4', 's9', 'c31', 'u25.03', 'a2.969999999999999', 'l4.0', 'l4', 't24.0', 'cv1.03')\n",
    "('c9', 'b1', 'p1', 'v91', 'u2', 'o1', 's8', 'c21', 'u9.03', 'a8.97', 'l4.0', 'l4', 't8.0', 'cv1.03')\n",
    "('c9', 'b1', 'p1', 'v92', 'u2', 'o2', 's8', 'c21', 'u9.03', 'a8.97', 'l4.0', 'l4', 't8.0', 'cv1.03')\n",
    "('c9', 'b1', 'p1', 'v93', 'u2', 'o3', 's8', 'c21', 'u9.03', 'a8.97', 'l4.0', 'l4', 't8.0', 'cv1.03')\n",
    "('c9', 'b1', 'p1', 'v94', 'u2', 'o4', 's8', 'c21', 'u9.03', 'a8.97', 'l4.0', 'l4', 't8.0', 'cv1.03')'''\n",
    "GLSB_D_raw = '''('c1', 'b1', 'p1', 'v11', 'u3', 'o1', 's3', 'c31', 'u13.03', 'a14.97', 'l4.0', 'l4', 't12.0', 'cv1.03')\n",
    "('c1', 'b1', 'p1', 'v12', 'u3', 'o2', 's3', 'c31', 'u13.03', 'a14.97', 'l4.0', 'l4', 't12.0', 'cv1.03')\n",
    "('c1', 'b1', 'p1', 'v13', 'u3', 'o3', 's3', 'c31', 'u13.03', 'a14.97', 'l4.0', 'l4', 't12.0', 'cv1.03')\n",
    "('c1', 'b1', 'p1', 'v14', 'u3', 'o4', 's3', 'c31', 'u13.03', 'a14.97', 'l4.0', 'l4', 't12.0', 'cv1.03')\n",
    "('c10', 'b2', 'p1', 'v101', 'u7', 'o1', 's9', 'c31', 'u7.59', 'a20.41', 'l1.0', 'l1', 't7.0', 'cv0.59')\n",
    "('c10', 'b2', 'p2', 'v102', 'u7', 'o2', 's1', 'c30', 'u21.91', 'a5.09', 'l3.0', 'l3', 't21.0', 'cv0.91')\n",
    "('c10', 'b2', 'p2', 'v103', 'u7', 'o3', 's1', 'c30', 'u21.91', 'a5.09', 'l3.0', 'l3', 't21.0', 'cv0.91')\n",
    "('c10', 'b2', 'p2', 'v104', 'u7', 'o4', 's1', 'c30', 'u21.91', 'a5.09', 'l3.0', 'l3', 't21.0', 'cv0.91')\n",
    "('c2', 'b1', 'p1', 'v21', 'u6', 'o1', 's15', 'c29', 'u25.03', 'a0.9699999999999989', 'l4.0', 'l4', 't24.0', 'cv1.03')\n",
    "('c2', 'b1', 'p1', 'v22', 'u6', 'o2', 's15', 'c29', 'u25.03', 'a0.9699999999999989', 'l4.0', 'l4', 't24.0', 'cv1.03')\n",
    "('c2', 'b1', 'p1', 'v23', 'u6', 'o3', 's15', 'c29', 'u25.03', 'a0.9699999999999989', 'l4.0', 'l4', 't24.0', 'cv1.03')\n",
    "('c2', 'b1', 'p1', 'v24', 'u6', 'o4', 's15', 'c29', 'u25.03', 'a0.9699999999999989', 'l4.0', 'l4', 't24.0', 'cv1.03')\n",
    "('c3', 'b2', 'p1', 'v31', 'u7', 'o1', 's2', 'c29', 'u7.59', 'a18.41', 'l1.0', 'l1', 't7.0', 'cv0.59')\n",
    "('c3', 'b2', 'p2', 'v32', 'u7', 'o2', 's11', 'c27', 'u21.91', 'a2.09', 'l3.0', 'l3', 't21.0', 'cv0.91')\n",
    "('c3', 'b2', 'p2', 'v33', 'u7', 'o3', 's11', 'c27', 'u21.91', 'a2.09', 'l3.0', 'l3', 't21.0', 'cv0.91')\n",
    "('c3', 'b2', 'p2', 'v34', 'u7', 'o4', 's11', 'c27', 'u21.91', 'a2.09', 'l3.0', 'l3', 't21.0', 'cv0.91')\n",
    "('c4', 'b2', 'p1', 'v41', 'u6', 'o1', 's5', 'c26', 'u6.59', 'a17.41', 'l1.0', 'l1', 't6.0', 'cv0.59')\n",
    "('c4', 'b2', 'p2', 'v42', 'u6', 'o2', 's13', 'c25', 'u18.91', 'a3.09', 'l3.0', 'l3', 't18.0', 'cv0.91')\n",
    "('c4', 'b2', 'p2', 'v43', 'u6', 'o3', 's13', 'c25', 'u18.91', 'a3.09', 'l3.0', 'l3', 't18.0', 'cv0.91')\n",
    "('c4', 'b2', 'p2', 'v44', 'u6', 'o4', 's13', 'c25', 'u18.91', 'a3.09', 'l3.0', 'l3', 't18.0', 'cv0.91')\n",
    "('c5', 'b2', 'p1', 'v51', 'u5', 'o1', 's6', 'c25', 'u5.59', 'a16.41', 'l1.0', 'l1', 't5.0', 'cv0.59')\n",
    "('c5', 'b2', 'p2', 'v52', 'u5', 'o2', 's9', 'c31', 'u23.5', 'a4.5', 'l4.0', 'l3', 't15.0', 'cv0.91')\n",
    "('c5', 'b2', 'p2', 'v53', 'u5', 'o3', 's9', 'c31', 'u23.5', 'a4.5', 'l4.0', 'l3', 't15.0', 'cv0.91')\n",
    "('c5', 'b2', 'p2', 'v54', 'u5', 'o4', 's9', 'c31', 'u23.5', 'a4.5', 'l4.0', 'l3', 't15.0', 'cv0.91')\n",
    "('c6', 'b5', 'p1', 'v61', 'u6', 'o1', 's7', 'c23', 'u18.91', 'a1.0899999999999999', 'l3.0', 'l3', 't18.0', 'cv0.91')\n",
    "('c6', 'b5', 'p1', 'v62', 'u6', 'o2', 's7', 'c23', 'u18.91', 'a1.0899999999999999', 'l3.0', 'l3', 't18.0', 'cv0.91')\n",
    "('c6', 'b5', 'p1', 'v63', 'u6', 'o3', 's7', 'c23', 'u18.91', 'a1.0899999999999999', 'l3.0', 'l3', 't18.0', 'cv0.91')\n",
    "('c6', 'b5', 'p2', 'v64', 'u6', 'o4', 's2', 'c29', 'u14.18', 'a11.82', 'l2.0', 'l1', 't6.0', 'cv0.59')\n",
    "('c7', 'b1', 'p1', 'v71', 'u4', 'o1', 's4', 'c21', 'u17.03', 'a0.9699999999999989', 'l4.0', 'l4', 't16.0', 'cv1.03')\n",
    "('c7', 'b1', 'p1', 'v72', 'u4', 'o2', 's4', 'c21', 'u17.03', 'a0.9699999999999989', 'l4.0', 'l4', 't16.0', 'cv1.03')\n",
    "('c7', 'b1', 'p1', 'v73', 'u4', 'o3', 's4', 'c21', 'u17.03', 'a0.9699999999999989', 'l4.0', 'l4', 't16.0', 'cv1.03')\n",
    "('c7', 'b1', 'p1', 'v74', 'u4', 'o4', 's4', 'c21', 'u17.03', 'a0.9699999999999989', 'l4.0', 'l4', 't16.0', 'cv1.03')\n",
    "('c8', 'b3', 'p1', 'v81', 'u6', 'o1', 's8', 'c21', 'u12.76', 'a5.24', 'l2.0', 'l2', 't12.0', 'cv0.76')\n",
    "('c8', 'b3', 'p1', 'v82', 'u6', 'o2', 's8', 'c21', 'u12.76', 'a5.24', 'l2.0', 'l2', 't12.0', 'cv0.76')\n",
    "('c8', 'b3', 'p2', 'v83', 'u6', 'o3', 's5', 'c26', 'u19.35', 'a4.65', 'l3.0', 'l2', 't12.0', 'cv0.76')\n",
    "('c8', 'b3', 'p2', 'v84', 'u6', 'o4', 's5', 'c26', 'u19.35', 'a4.65', 'l3.0', 'l2', 't12.0', 'cv0.76')\n",
    "('c9', 'b1', 'p1', 'v91', 'u2', 'o1', 's10', 'c20', 'u9.03', 'a7.970000000000001', 'l4.0', 'l4', 't8.0', 'cv1.03')\n",
    "('c9', 'b1', 'p1', 'v92', 'u2', 'o2', 's10', 'c20', 'u9.03', 'a7.970000000000001', 'l4.0', 'l4', 't8.0', 'cv1.03')\n",
    "('c9', 'b1', 'p1', 'v93', 'u2', 'o3', 's10', 'c20', 'u9.03', 'a7.970000000000001', 'l4.0', 'l4', 't8.0', 'cv1.03')\n",
    "('c9', 'b1', 'p1', 'v94', 'u2', 'o4', 's10', 'c20', 'u9.03', 'a7.970000000000001', 'l4.0', 'l4', 't8.0', 'cv1.03')'''"
   ]
  },
  {
   "cell_type": "code",
   "execution_count": 3,
   "metadata": {},
   "outputs": [],
   "source": [
    "import numpy as np\n",
    "from matplotlib import pyplot as plt\n",
    "%matplotlib inline"
   ]
  },
  {
   "cell_type": "code",
   "execution_count": 11,
   "metadata": {},
   "outputs": [],
   "source": [
    "def multi_replace(text, pattern_list):\n",
    "    for pattern in pattern_list:\n",
    "        text = text.replace(pattern, '')\n",
    "    return text\n",
    "\n",
    "\n",
    "def parse_text(text):\n",
    "    text = '[' + text.replace('\\n', ',\\n') + ']'\n",
    "    text = multi_replace(text, ['c', 'b', 'p', 'v', 'u', 'o', 's', 'a', 't'])\n",
    "    dat = np.array(eval(text))[:, [0, 5, 6]]\n",
    "    dat = np.array(dat, dtype=np.float)\n",
    "    return dat\n",
    "                              "
   ]
  },
  {
   "cell_type": "code",
   "execution_count": 12,
   "metadata": {},
   "outputs": [],
   "source": []
  },
  {
   "cell_type": "code",
   "execution_count": null,
   "metadata": {},
   "outputs": [],
   "source": []
  },
  {
   "cell_type": "code",
   "execution_count": null,
   "metadata": {},
   "outputs": [],
   "source": []
  },
  {
   "cell_type": "code",
   "execution_count": 5,
   "metadata": {},
   "outputs": [
    {
     "name": "stdout",
     "output_type": "stream",
     "text": [
      "[[1.0, 11.0, 3.0], [1.0, 12.0, 3.0], [1.0, 13.0, 3.0], [1.0, 14.0, 3.0], [10.0, 101.0, 9.0], [10.0, 102.0, 9.0], [10.0, 103.0, 9.0], [10.0, 104.0, 9.0], [2.0, 21.0, 1.0], [2.0, 22.0, 1.0], [2.0, 23.0, 1.0], [2.0, 24.0, 1.0], [3.0, 31.0, 15.0], [3.0, 32.0, 2.0], [3.0, 33.0, 2.0], [3.0, 34.0, 2.0], [4.0, 41.0, 11.0], [4.0, 42.0, 11.0], [4.0, 43.0, 11.0], [4.0, 44.0, 11.0], [5.0, 51.0, 5.0], [5.0, 52.0, 5.0], [5.0, 53.0, 5.0], [5.0, 54.0, 5.0], [6.0, 61.0, 13.0], [6.0, 62.0, 6.0], [6.0, 63.0, 6.0], [6.0, 64.0, 6.0], [7.0, 71.0, 7.0], [7.0, 72.0, 7.0], [7.0, 73.0, 7.0], [7.0, 74.0, 7.0], [8.0, 81.0, 15.0], [8.0, 82.0, 4.0], [8.0, 83.0, 4.0], [8.0, 84.0, 4.0], [9.0, 91.0, 8.0], [9.0, 92.0, 8.0], [9.0, 93.0, 8.0], [9.0, 94.0, 8.0]]\n"
     ]
    }
   ],
   "source": [
    "\n",
    "\n",
    "text = text2\n",
    "\n",
    "tmp = text.replace('  ', ' ').split('\\n')\n",
    "dat = []\n",
    "for item in tmp:\n",
    "    item = item.split(' ')\n",
    "    row = [item[3], item[12], item[20]]\n",
    "    dat.append(row)\n",
    "dat = np.array(dat, dtype=float)\n",
    "#dat.sort(order=[\"chainID\", \"VNF\"])\n",
    "print dat.tolist()\n"
   ]
  },
  {
   "cell_type": "code",
   "execution_count": 44,
   "metadata": {},
   "outputs": [],
   "source": [
    "inter_1k_mean, inter_1k_std = 0.593, 0.0911\n",
    "inter_64k_mean, inter_64k_std = 4.1442, 0.50177\n",
    "\n",
    "intra_1k_mean, intra_1k_std = 0.2559, 0.02926\n",
    "intra_64k_mean, intra_64k_std = 1.2698, 0.18441\n",
    "\n",
    "gath_packet_1k = 1000*2*8\n",
    "dist_packet_1k = 1000*2*8 + 3*1000*8\n",
    "\n",
    "gath_packet_64k = 64000*2*8\n",
    "dist_packet_64k = 64000*2*8 + 3*64000*8"
   ]
  },
  {
   "cell_type": "code",
   "execution_count": 45,
   "metadata": {},
   "outputs": [],
   "source": [
    "def calc_delay(dat):\n",
    "    delay_list_1k = []#delay for each service chain\n",
    "    delay_list_64k = []#delay for each service chain\n",
    "    dat = dat_maxmin\n",
    "    for i in range(10):\n",
    "        tmp = dat[dat[:, 0] == i]\n",
    "        delay1k = 0\n",
    "        delay64k = 0\n",
    "        for j in range(len(tmp)-1):\n",
    "            if tmp[j, -1] != tmp[j+1, -1]:\n",
    "                delay1k += np.random.randn()*0.0911 + 0.593\n",
    "                delay64k += np.random.randn()*0.50177 + 4.1442\n",
    "            elif tmp[j, -1] == tmp[j+1, -1]:\n",
    "                delay1k += np.random.randn()*0.02926 + 0.2559\n",
    "                delay64k += np.random.randn()*0.18441 + 1.2698\n",
    "        delay_list_1k.append(delay1k)\n",
    "        delay_list_64k.append(delay64k)\n",
    "    return np.array(delay_list_1k[1:]), np.array(delay_list_64k[1:])\n"
   ]
  },
  {
   "cell_type": "code",
   "execution_count": 46,
   "metadata": {},
   "outputs": [],
   "source": [
    "#dat = dat_minmax\n",
    "def calc_bandwidth(dat):\n",
    "    PACKET_SIZE = 1000\n",
    "    packet_list_1k = []\n",
    "    packet_list_64k = []\n",
    "    #dat = dat_maxmin\n",
    "    for i in range(10):\n",
    "        tmp = dat[dat[:, 0] == i]\n",
    "        packet1k = 0\n",
    "        packet64k = 0\n",
    "        for j in range(len(tmp)-1):\n",
    "            if tmp[j, -1] != tmp[j+1, -1]:\n",
    "                packet1k += 1000*8\n",
    "                packet64k += 64000*8\n",
    "            elif tmp[j, -1] == tmp[j+1, -1]:\n",
    "                packet1k += 0\n",
    "                packet64k += 0\n",
    "        packet_list_1k.append(packet1k)\n",
    "        packet_list_64k.append(packet64k)\n",
    "    return np.array(packet_list_1k[1:]), np.array(packet_list_64k[1:])\n"
   ]
  },
  {
   "cell_type": "code",
   "execution_count": 47,
   "metadata": {},
   "outputs": [],
   "source": [
    "#configuration for min-max deployment\n",
    "#dat_minmax = [[1, 1, 1], [1, 2, 1], [1, 3, 1], [1, 4, 1], [2, 1, 1], [2, 2, 1], [2, 3, 2], [2, 4, 2], [3, 1, 2], [3, 2, 2], [3, 3, 3], [3, 4, 3], [4, 1, 3], [4, 2, 3], [4, 3, 4], [4, 4, 4], [5, 1, 4], [5, 2, 4], [5, 3, 5], [5, 4, 5], [6, 1, 5], [6, 2, 5], [6, 3, 6], [6, 4, 6], [7, 1, 2], [7, 2, 3], [7, 3, 4], [7, 4, 5], [8, 1, 9], [8, 2, 9], [8, 3, 10], [8, 4, 10], [9, 1, 1], [9, 2, 6], [9, 3, 8], [9, 4, 8], [10, 1, 11], [10, 2, 11], [10, 3, 11], [10, 4, 12]]\n",
    "#dat_minmax = np.array(dat_minmax)\n",
    "#dat_maxmin = [[1, 1, 1], [1, 2, 1], [1, 3, 1], [1, 4, 1], [2, 1, 1], [2, 2, 1], [2, 3, 2], [2, 4, 2], [3, 1, 2], [3, 2, 2], [3, 3, 3], [3, 4, 3], [4, 1, 3], [4, 2, 3], [4, 3, 4], [4, 4, 4], [5, 1, 4], [5, 2, 4], [5, 3, 5], [5, 4, 5], [6, 1, 5], [6, 2, 5], [6, 3, 6], [6, 4, 6], [7, 1, 1], [7, 2, 4], [7, 3, 5], [7, 4, 6], [8, 1, 1], [8, 2, 4], [8, 3, 5], [8, 4, 6], [9, 1, 2], [9, 2, 6], [9, 3, 7], [9, 4, 7], [10, 1, 8], [10, 2, 9], [10, 3, 9], [10, 4, 9]]\n",
    "#dat_maxmin = np.array(dat_maxmin)\n",
    "\n",
    "#chain deployment using my own data\n",
    "dat_minmax = [[1.0, 11.0, 3.0], [1.0, 12.0, 3.0], [1.0, 13.0, 3.0], [1.0, 14.0, 3.0], [10.0, 101.0, 9.0], [10.0, 102.0, 9.0], [10.0, 103.0, 9.0], [10.0, 104.0, 9.0], [2.0, 21.0, 1.0], [2.0, 22.0, 1.0], [2.0, 23.0, 1.0], [2.0, 24.0, 1.0], [3.0, 31.0, 15.0], [3.0, 32.0, 2.0], [3.0, 33.0, 2.0], [3.0, 34.0, 2.0], [4.0, 41.0, 11.0], [4.0, 42.0, 11.0], [4.0, 43.0, 11.0], [4.0, 44.0, 11.0], [5.0, 51.0, 5.0], [5.0, 52.0, 5.0], [5.0, 53.0, 5.0], [5.0, 54.0, 5.0], [6.0, 61.0, 13.0], [6.0, 62.0, 6.0], [6.0, 63.0, 6.0], [6.0, 64.0, 6.0], [7.0, 71.0, 7.0], [7.0, 72.0, 7.0], [7.0, 73.0, 7.0], [7.0, 74.0, 7.0], [8.0, 81.0, 15.0], [8.0, 82.0, 4.0], [8.0, 83.0, 4.0], [8.0, 84.0, 4.0], [9.0, 91.0, 8.0], [9.0, 92.0, 8.0], [9.0, 93.0, 8.0], [9.0, 94.0, 8.0]]\n",
    "dat_minmax = np.array(dat_minmax)\n",
    "dat_maxmin = [[1.0, 11.0, 3.0], [1.0, 12.0, 3.0], [1.0, 13.0, 3.0], [1.0, 14.0, 3.0], [10.0, 101.0, 9.0], [10.0, 102.0, 9.0], [10.0, 103.0, 9.0], [10.0, 104.0, 9.0], [2.0, 21.0, 1.0], [2.0, 22.0, 1.0], [2.0, 23.0, 1.0], [2.0, 24.0, 1.0], [3.0, 31.0, 15.0], [3.0, 32.0, 2.0], [3.0, 33.0, 2.0], [3.0, 34.0, 2.0], [4.0, 41.0, 11.0], [4.0, 42.0, 11.0], [4.0, 43.0, 11.0], [4.0, 44.0, 11.0], [5.0, 51.0, 5.0], [5.0, 52.0, 5.0], [5.0, 53.0, 5.0], [5.0, 54.0, 5.0], [6.0, 61.0, 13.0], [6.0, 62.0, 6.0], [6.0, 63.0, 6.0], [6.0, 64.0, 6.0], [7.0, 71.0, 7.0], [7.0, 72.0, 7.0], [7.0, 73.0, 7.0], [7.0, 74.0, 7.0], [8.0, 81.0, 15.0], [8.0, 82.0, 4.0], [8.0, 83.0, 4.0], [8.0, 84.0, 4.0], [9.0, 91.0, 8.0], [9.0, 92.0, 8.0], [9.0, 93.0, 8.0], [9.0, 94.0, 8.0]]\n",
    "dat_maxmin = np.array(dat_maxmin)\n",
    "\n",
    "#chain deployment with Mart's implementation\n",
    "GLS_A = parse_text(GLSA_D_raw)\n",
    "GLS_B = parse_text(GLSB_D_raw)\n",
    "dat_minmax = GLS_A\n",
    "dat_maxmin = GLS_B"
   ]
  },
  {
   "cell_type": "code",
   "execution_count": null,
   "metadata": {},
   "outputs": [],
   "source": []
  },
  {
   "cell_type": "code",
   "execution_count": null,
   "metadata": {},
   "outputs": [],
   "source": []
  },
  {
   "cell_type": "code",
   "execution_count": 48,
   "metadata": {},
   "outputs": [],
   "source": [
    "minmax_delay_1k, minmax_delay_64k = calc_delay(dat_minmax)\n",
    "maxmin_delay_1k, maxmin_delay_64k = calc_delay(dat_maxmin)\n",
    "\n",
    "minmax_packet_1k, minmax_packet_64k = calc_bandwidth(dat_minmax)\n",
    "maxmin_packet_1k, maxmin_packet_64k = calc_bandwidth(dat_maxmin)"
   ]
  },
  {
   "cell_type": "code",
   "execution_count": null,
   "metadata": {},
   "outputs": [],
   "source": []
  },
  {
   "cell_type": "code",
   "execution_count": 49,
   "metadata": {},
   "outputs": [
    {
     "data": {
      "text/plain": [
       "Text(0,0.5,'ms')"
      ]
     },
     "execution_count": 49,
     "metadata": {},
     "output_type": "execute_result"
    },
    {
     "data": {
      "image/png": "[encoded data removed]",
      "text/plain": [
       "<Figure size 432x288 with 1 Axes>"
      ]
     },
     "metadata": {},
     "output_type": "display_data"
    },
    {
     "data": {
      "image/png": "[encoded data removed]",
      "text/plain": [
       "<Figure size 432x288 with 1 Axes>"
      ]
     },
     "metadata": {},
     "output_type": "display_data"
    }
   ],
   "source": [
    "y = np.array([intra_1k_mean, (minmax_delay_1k.mean())/3., (maxmin_delay_1k.mean())/3., inter_1k_mean])\n",
    "y = y*3\n",
    "x = range(len(y))\n",
    "object_list = ['G','GLSA', 'GLSB', 'D']\n",
    "plt.bar(x, y, align='center', alpha=0.5)\n",
    "plt.xticks(x, object_list, fontsize=16)\n",
    "plt.xlabel('', fontsize=16)\n",
    "#plt.title('Delay for different placement strategies. Packetsize = 1000 Bytes')\n",
    "plt.ylabel('ms', fontsize=16)\n",
    "plt.figure()\n",
    "\n",
    "y = np.array([intra_64k_mean, (minmax_delay_64k.mean())/3., (maxmin_delay_64k.mean())/3., inter_64k_mean])\n",
    "y = y*3\n",
    "x = range(len(y))\n",
    "object_list = ['G','GLSA', 'GLSB', 'D']\n",
    "plt.bar(x, y, align='center', alpha=0.5)\n",
    "plt.xticks(x, object_list, fontsize=16)\n",
    "plt.xlabel('')\n",
    "plt.ylabel('ms', fontsize=16)\n",
    "#plt.title('Delay for different placement strategies. Packetsize = 64000 Bytes')"
   ]
  },
  {
   "cell_type": "code",
   "execution_count": 50,
   "metadata": {},
   "outputs": [
    {
     "data": {
      "text/plain": [
       "Text(0,0.5,'Mbps')"
      ]
     },
     "execution_count": 50,
     "metadata": {},
     "output_type": "execute_result"
    },
    {
     "data": {
      "image/png": "[encoded data removed]",
      "text/plain": [
       "<Figure size 432x288 with 1 Axes>"
      ]
     },
     "metadata": {},
     "output_type": "display_data"
    },
    {
     "data": {
      "image/png": "[encoded data removed]",
      "text/plain": [
       "<Figure size 432x288 with 1 Axes>"
      ]
     },
     "metadata": {},
     "output_type": "display_data"
    }
   ],
   "source": [
    "y = np.array([gath_packet_1k, gath_packet_1k + minmax_packet_1k.mean(), gath_packet_1k + minmax_packet_1k.mean(), dist_packet_1k])\n",
    "y=y/1000000.\n",
    "x = range(len(y))\n",
    "object_list = ['G','GLSA', 'GLSB', 'D']\n",
    "plt.bar(x, y, align='center', alpha=0.5)\n",
    "plt.xticks(x, object_list, fontsize=16)\n",
    "plt.xlabel('', fontsize=16)\n",
    "#plt.title('Delay for different placement strategies. Packetsize = 1000 Bytes')\n",
    "plt.ylabel('Mbps', fontsize=16)\n",
    "plt.figure()\n",
    "\n",
    "y = np.array([gath_packet_64k, gath_packet_64k + minmax_packet_64k.mean(), gath_packet_64k + minmax_packet_64k.mean(), dist_packet_64k])\n",
    "y=y/1000000.\n",
    "x = range(len(y))\n",
    "\n",
    "object_list = ['G','GLSA', 'GLSB', 'D']\n",
    "plt.bar(x, y, align='center', alpha=0.5)\n",
    "plt.xticks(x, object_list, fontsize=16)\n",
    "plt.xlabel('')\n",
    "plt.ylabel('Mbps', fontsize=16)\n",
    "#plt.title('Delay for different placement strategies. Packetsize = 64000 Bytes')"
   ]
  },
  {
   "cell_type": "code",
   "execution_count": null,
   "metadata": {},
   "outputs": [],
   "source": []
  },
  {
   "cell_type": "code",
   "execution_count": null,
   "metadata": {},
   "outputs": [],
   "source": []
  },
  {
   "cell_type": "code",
   "execution_count": null,
   "metadata": {},
   "outputs": [],
   "source": []
  },
  {
   "cell_type": "code",
   "execution_count": null,
   "metadata": {},
   "outputs": [],
   "source": []
  },
  {
   "cell_type": "code",
   "execution_count": null,
   "metadata": {},
   "outputs": [],
   "source": []
  },
  {
   "cell_type": "code",
   "execution_count": null,
   "metadata": {},
   "outputs": [],
   "source": []
  },
  {
   "cell_type": "code",
   "execution_count": null,
   "metadata": {},
   "outputs": [],
   "source": []
  },
  {
   "cell_type": "code",
   "execution_count": null,
   "metadata": {},
   "outputs": [],
   "source": []
  },
  {
   "cell_type": "code",
   "execution_count": null,
   "metadata": {},
   "outputs": [],
   "source": []
  },
  {
   "cell_type": "code",
   "execution_count": null,
   "metadata": {},
   "outputs": [],
   "source": []
  },
  {
   "cell_type": "code",
   "execution_count": null,
   "metadata": {},
   "outputs": [],
   "source": []
  },
  {
   "cell_type": "code",
   "execution_count": 66,
   "metadata": {},
   "outputs": [
    {
     "name": "stdout",
     "output_type": "stream",
     "text": [
      "[[3 3 3 3]\n",
      " [6 6 6 6]\n",
      " [7 7 7 7]\n",
      " [6 6 6 6]\n",
      " [5 5 5 5]\n",
      " [6 6 6 6]\n",
      " [4 4 4 4]\n",
      " [6 6 6 6]\n",
      " [2 2 2 2]\n",
      " [7 7 7 7]]\n",
      "---------\n",
      "[27, 18, 16, 25, 16, 28, 28, 21, 15, 19, 17, 22, 20, 19, 26]\n",
      "---------\n",
      "[15, 16, 16, 17, 18, 19, 19, 20, 21, 22, 25, 26, 27, 28, 28]\n",
      "---------\n",
      "[12, 24, 28, 24, 20, 24, 16, 24, 8, 28]\n"
     ]
    }
   ],
   "source": [
    "import numpy as np\n",
    "#Given chain CPU requirement\n",
    "D0 = [3, 6, 7, 6, 5, 6, 4, 6, 2, 7]\n",
    "chain_list = np.array([[i, i, i, i] for i in D0])\n",
    "\n",
    "server_list = [np.random.randint(15) + 15 for i in range(15)]\n",
    "server_list_sorted = sorted(server_list)\n",
    "\n",
    "print chain_list\n",
    "print '---------'\n",
    "print server_list\n",
    "print '---------'\n",
    "print server_list_sorted\n",
    "print '---------'\n",
    "CPU_list = chain_list.sum(axis=1)\n",
    "print CPU_list.tolist()"
   ]
  },
  {
   "cell_type": "code",
   "execution_count": 52,
   "metadata": {},
   "outputs": [],
   "source": [
    "def deploy_gathering_item(CPU, server_list):\n",
    "    for idx, server in enumerate(server_list):\n",
    "        if CPU <= server:\n",
    "            server_list[idx] = server - CPU\n",
    "            return server_list\n",
    "    return None\n",
    "\n",
    "def deploy_gathering(CPU_list, server_list):\n",
    "    debug = []\n",
    "    for CPU in CPU_list:\n",
    "        tmp = deploy_gathering_item(CPU, server_list)\n",
    "        if tmp != None:\n",
    "            debug.append(list(tmp))\n",
    "        else:\n",
    "            #print 'Failed deployment for CPU: {}'.format(CPU)\n",
    "            debug.append(list(server_list))\n",
    "    return debug"
   ]
  },
  {
   "cell_type": "code",
   "execution_count": 53,
   "metadata": {},
   "outputs": [
    {
     "name": "stdout",
     "output_type": "stream",
     "text": [
      "27,26,28,18,23,22,20,18,28,17,24,17,22,15,26\n",
      "15,26,28,18,23,22,20,18,28,17,24,17,22,15,26\n",
      "15,2,28,18,23,22,20,18,28,17,24,17,22,15,26\n",
      "15,2,0,18,23,22,20,18,28,17,24,17,22,15,26\n",
      "15,2,0,18,23,22,20,18,4,17,24,17,22,15,26\n",
      "15,2,0,18,3,22,20,18,4,17,24,17,22,15,26\n",
      "15,2,0,18,3,22,20,18,4,17,0,17,22,15,26\n",
      "15,2,0,2,3,22,20,18,4,17,0,17,22,15,26\n",
      "15,2,0,2,3,22,20,18,4,17,0,17,22,15,2\n",
      "7,2,0,2,3,22,20,18,4,17,0,17,22,15,2\n",
      "7,2,0,2,3,22,20,18,4,17,0,17,22,15,2\n"
     ]
    }
   ],
   "source": [
    "s_list = list(server_list)\n",
    "print ','.join(map(str, s_list))\n",
    "debug = deploy_gathering(CPU_list, s_list)\n",
    "for item in debug:\n",
    "    print ','.join(map(str, item))"
   ]
  },
  {
   "cell_type": "code",
   "execution_count": 51,
   "metadata": {},
   "outputs": [
    {
     "data": {
      "text/plain": [
       "array([12, 24, 28, 24, 20, 24, 16, 24,  8, 28])"
      ]
     },
     "execution_count": 51,
     "metadata": {},
     "output_type": "execute_result"
    }
   ],
   "source": [
    "CPU_list\n"
   ]
  },
  {
   "cell_type": "code",
   "execution_count": 61,
   "metadata": {},
   "outputs": [
    {
     "data": {
      "text/plain": [
       "[28, 28, 27, 26, 26, 24, 23, 22, 22, 20, 18, 18, 17, 17, 15]"
      ]
     },
     "execution_count": 61,
     "metadata": {},
     "output_type": "execute_result"
    }
   ],
   "source": [
    "sorted(server_list, reverse=True)"
   ]
  },
  {
   "cell_type": "code",
   "execution_count": null,
   "metadata": {},
   "outputs": [],
   "source": []
  }
 ],
 "metadata": {
  "kernelspec": {
   "display_name": "Python 2",
   "language": "python",
   "name": "python2"
  },
  "language_info": {
   "codemirror_mode": {
    "name": "ipython",
    "version": 2
   },
   "file_extension": ".py",
   "mimetype": "text/x-python",
   "name": "python",
   "nbconvert_exporter": "python",
   "pygments_lexer": "ipython2",
   "version": "2.7.15"
  }
 },
 "nbformat": 4,
 "nbformat_minor": 2
}
