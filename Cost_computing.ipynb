{
 "cells": [
  {
   "cell_type": "code",
   "execution_count": 1,
   "metadata": {},
   "outputs": [],
   "source": [
    "import math"
   ]
  },
  {
   "cell_type": "code",
   "execution_count": 2,
   "metadata": {},
   "outputs": [],
   "source": [
    "class subchain:\n",
    "    \n",
    "    # Subchain class \n",
    "    # phin: # of VNFs\n",
    "    # phip: the amount of packets to process\n",
    "    # ovs_type: kernel or DPDK\n",
    "    # placement_function: g or d\n",
    "    # packet_size: 100 or 1500\n",
    "    \n",
    "    def __init__(self, phin = 25, phip = 10000, ovs_type = 'kernel', placement_function = 'g', packet_size = 100):\n",
    "        self.phin = phin\n",
    "        self.phip = phip\n",
    "        self.ovs_type = ovs_type\n",
    "        self.placement_function = placement_function\n",
    "        self.packet_size = packet_size\n",
    "        self.get_constant()\n",
    "        self.f = self.F()\n",
    "        \n",
    "    def get_constant(self):\n",
    "        if self.ovs_type == 'kernel' and self.placement_function == 'g' and self.packet_size == 100:\n",
    "            self.alpha = 0.586\n",
    "            self.beta = 0.858\n",
    "            self.gamma = -1.789\n",
    "        elif self.ovs_type == 'kernel' and self.placement_function == 'g' and self.packet_size == 1500:\n",
    "            self.alpha = 0.752\n",
    "            self.beta = 0.979\n",
    "            self.gamma = -3.856\n",
    "        elif self.ovs_type == 'kernel' and self.placement_function == 'd' and self.packet_size == 100:\n",
    "            self.alpha = 0.660\n",
    "            self.beta = 0.243\n",
    "            self.gamma = -2.661\n",
    "        elif self.ovs_type == 'kernel' and self.placement_function == 'd' and self.packet_size == 1500:\n",
    "            self.alpha = 1.009\n",
    "            self.beta = 0.268\n",
    "            self.gamma = -7.176\n",
    "        elif self.ovs_type == 'DPDK' and self.placement_function == 'g' and self.packet_size == 100:\n",
    "            self.alpha = 0.370\n",
    "            self.beta = 0.467\n",
    "            self.gamma = 1.543\n",
    "        elif self.ovs_type == 'DPDK' and self.placement_function == 'g' and self.packet_size == 1500:\n",
    "            self.alpha = 0.478\n",
    "            self.beta = 0.578\n",
    "            self.gamma = 0.194\n",
    "        elif self.ovs_type == 'DPDK' and self.placement_function == 'd' and self.packet_size == 100:\n",
    "            self.alpha = 0.217\n",
    "            self.beta = 0.091\n",
    "            self.gamma = 3.795\n",
    "        elif self.ovs_type == 'DPDK' and self.placement_function == 'd' and self.packet_size == 1500:\n",
    "            self.alpha = 0.157\n",
    "            self.beta = 0.109\n",
    "            self.gamma = 4.718\n",
    "            \n",
    "    def F(self):\n",
    "        \n",
    "        # Compute the cost of this subchain\n",
    "        \n",
    "        self.logc = self.alpha * math.log(self.phin) + self.beta * math.log(self.phip) + self.gamma\n",
    "        return self.logc\n",
    "    \n",
    "    def concurrent_F(self,r):\n",
    "        \n",
    "        # compute the cost of this subchain concurrent r times\n",
    "        \n",
    "        self.logc = self.alpha * math.log(self.phin*r) + self.beta * math.log(self.phip) + self.gamma\n",
    "        return self.logc\n",
    "    \n",
    "    def get_delta(self,r):\n",
    "        \n",
    "        # compute the switching cost delta\n",
    "        \n",
    "        self.concur_f = self.concurrent_F(r)\n",
    "        self.delta = r * self.f - self.concur_f\n",
    "        return self.delta"
   ]
  },
  {
   "cell_type": "code",
   "execution_count": 3,
   "metadata": {},
   "outputs": [],
   "source": [
    "class multiple_subchain:\n",
    "    \n",
    "    # class of multiple subchains\n",
    "    \n",
    "    def __init__(self, subchain_list):\n",
    "        self.r = len(subchain_list)\n",
    "        self.subchain_list = subchain_list\n",
    "        self.get_f_list()\n",
    "        self.get_delta_list()\n",
    "        \n",
    "    def get_delta_list(self):\n",
    "        self.delta_list = []\n",
    "        for i in range(self.r):\n",
    "            delta = self.subchain_list[i].get_delta(self.r)\n",
    "            self.delta_list.append(delta)\n",
    "            \n",
    "    def get_f_list(self):\n",
    "        self.f_list = []\n",
    "        for i in range(self.r):\n",
    "            f = self.subchain_list[i].f\n",
    "            self.f_list.append(f)\n",
    "            \n",
    "    def get_cost(self):\n",
    "        self.cost = sum(self.f_list)-(self.r-1)*sum(self.delta_list)/self.r\n",
    "        return(self.cost)"
   ]
  },
  {
   "cell_type": "code",
   "execution_count": 31,
   "metadata": {},
   "outputs": [
    {
     "name": "stdout",
     "output_type": "stream",
     "text": [
      "4.622223323389673\n",
      "2.967146379471757\n",
      "nan\n"
     ]
    },
    {
     "name": "stderr",
     "output_type": "stream",
     "text": [
      "/anaconda2/lib/python2.7/site-packages/ipykernel_launcher.py:16: RuntimeWarning: invalid value encountered in log\n",
      "  app.launch_new_instance()\n"
     ]
    }
   ],
   "source": [
    "import numpy as np\n",
    "# An example of computing the cost of two subchains in a server\n",
    "\n",
    "a = subchain(phin = 5, phip = 10000, ovs_type = 'kernel', placement_function = 'd', packet_size = 1500)\n",
    "b = subchain(phin = 6, phip = 10000, ovs_type = 'kernel', placement_function = 'd', packet_size = 1500)\n",
    "c = subchain(phin = 4, phip = 10000, ovs_type = 'kernel', placement_function = 'd', packet_size = 1500)\n",
    "d = subchain(phin = 6, phip = 10000, ovs_type = 'kernel', placement_function = 'd', packet_size = 1500)\n",
    "e = subchain(phin = 4, phip = 10000, ovs_type = 'kernel', placement_function = 'd', packet_size = 1500)\n",
    "f = subchain(phin = 6, phip = 10000, ovs_type = 'kernel', placement_function = 'd', packet_size = 1500)\n",
    "g = subchain(phin = 4, phip = 10000, ovs_type = 'kernel', placement_function = 'd', packet_size = 1500)\n",
    "x = multiple_subchain([a,b,c, d, e, f, g])\n",
    "print np.log(x.get_cost())\n",
    "y = multiple_subchain([a,b,c, d])\n",
    "print np.log(y.get_cost())\n",
    "z = multiple_subchain([a])\n",
    "print np.log(z.get_cost())"
   ]
  },
  {
   "cell_type": "code",
   "execution_count": null,
   "metadata": {},
   "outputs": [],
   "source": []
  },
  {
   "cell_type": "code",
   "execution_count": null,
   "metadata": {},
   "outputs": [],
   "source": [
    "#def gathering_placement(server_list, )"
   ]
  },
  {
   "cell_type": "code",
   "execution_count": null,
   "metadata": {},
   "outputs": [],
   "source": []
  },
  {
   "cell_type": "code",
   "execution_count": null,
   "metadata": {},
   "outputs": [],
   "source": []
  },
  {
   "cell_type": "code",
   "execution_count": null,
   "metadata": {},
   "outputs": [],
   "source": []
  },
  {
   "cell_type": "code",
   "execution_count": null,
   "metadata": {},
   "outputs": [],
   "source": []
  },
  {
   "cell_type": "code",
   "execution_count": null,
   "metadata": {},
   "outputs": [],
   "source": []
  },
  {
   "cell_type": "code",
   "execution_count": null,
   "metadata": {},
   "outputs": [],
   "source": []
  },
  {
   "cell_type": "code",
   "execution_count": null,
   "metadata": {},
   "outputs": [],
   "source": []
  }
 ],
 "metadata": {
  "kernelspec": {
   "display_name": "Python 2",
   "language": "python",
   "name": "python2"
  },
  "language_info": {
   "codemirror_mode": {
    "name": "ipython",
    "version": 2
   },
   "file_extension": ".py",
   "mimetype": "text/x-python",
   "name": "python",
   "nbconvert_exporter": "python",
   "pygments_lexer": "ipython2",
   "version": "2.7.15"
  }
 },
 "nbformat": 4,
 "nbformat_minor": 2
}
